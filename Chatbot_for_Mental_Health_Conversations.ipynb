{
  "metadata": {
    "kernelspec": {
      "language": "python",
      "display_name": "Python 3",
      "name": "python3"
    },
    "language_info": {
      "name": "python",
      "version": "3.10.10",
      "mimetype": "text/x-python",
      "codemirror_mode": {
        "name": "ipython",
        "version": 3
      },
      "pygments_lexer": "ipython3",
      "nbconvert_exporter": "python",
      "file_extension": ".py"
    },
    "kaggle": {
      "accelerator": "none",
      "dataSources": [
        {
          "sourceId": 4429121,
          "sourceType": "datasetVersion",
          "datasetId": 2594075
        }
      ],
      "dockerImageVersionId": 30497,
      "isInternetEnabled": false,
      "language": "python",
      "sourceType": "notebook",
      "isGpuEnabled": false
    },
    "colab": {
      "name": "Chatbot for Mental Health Conversations",
      "provenance": []
    }
  },
  "nbformat_minor": 0,
  "nbformat": 4,
  "cells": [
    {
      "source": [
        "# IMPORTANT: RUN THIS CELL IN ORDER TO IMPORT YOUR KAGGLE DATA SOURCES,\n",
        "# THEN FEEL FREE TO DELETE THIS CELL.\n",
        "# NOTE: THIS NOTEBOOK ENVIRONMENT DIFFERS FROM KAGGLE'S PYTHON\n",
        "# ENVIRONMENT SO THERE MAY BE MISSING LIBRARIES USED BY YOUR\n",
        "# NOTEBOOK.\n",
        "import kagglehub\n",
        "elvis23_mental_health_conversational_data_path = kagglehub.dataset_download('elvis23/mental-health-conversational-data')\n",
        "\n",
        "print('Data source import complete.')\n"
      ],
      "metadata": {
        "id": "j3ezkBY6q-hJ",
        "outputId": "d8446aac-35c2-4f38-bd5d-3ea5127e8342",
        "colab": {
          "base_uri": "https://localhost:8080/"
        }
      },
      "cell_type": "code",
      "outputs": [
        {
          "output_type": "stream",
          "name": "stdout",
          "text": [
            "Downloading from https://www.kaggle.com/api/v1/datasets/download/elvis23/mental-health-conversational-data?dataset_version_number=1...\n"
          ]
        },
        {
          "output_type": "stream",
          "name": "stderr",
          "text": [
            "100%|██████████| 11.8k/11.8k [00:00<00:00, 16.7MB/s]"
          ]
        },
        {
          "output_type": "stream",
          "name": "stdout",
          "text": [
            "Extracting files...\n",
            "Data source import complete.\n"
          ]
        },
        {
          "output_type": "stream",
          "name": "stderr",
          "text": [
            "\n"
          ]
        }
      ],
      "execution_count": 3
    },
    {
      "cell_type": "markdown",
      "source": [
        "<!-- Codes by HTMLcodes.ws -->\n",
        "<h1 style = \"color:Blue;font-family:newtimeroman;font-size:250%;text-align:center;border-radius:15px 50px;\">Chatbot for Mental Health Conversations</h1>\n"
      ],
      "metadata": {
        "id": "OVh-0nGeq-hL"
      }
    },
    {
      "cell_type": "markdown",
      "source": [
        "# Introduction\n",
        "\n",
        "Building chatbots capable of providing emotional support to individuals experiencing anxiety and depression has become a key focus in the field of artificial intelligence. A crucial component in developing such chatbots is a well-structured dataset, which serves as the foundation for training models to comprehend and respond empathetically to user messages.\n",
        "\n",
        "The dataset available here is a comprehensive collection of conversations related to mental health. It encompasses various conversation types, including basic exchanges, frequently asked questions about mental health, classical therapy discussions, and general advice given to individuals facing anxiety and depression. The primary objective of this dataset is to facilitate the training of a chatbot model that emulates a therapist, capable of providing empathetic and supportive responses to those seeking emotional solace.\n",
        "\n",
        "To train the model effectively, the dataset incorporates the concept of \"intents.\" Each intent represents the underlying purpose behind a user's message. For example, if a user expresses sadness, the associated intent would be \"sad.\" Each intent is accompanied by a set of patterns, which are example messages aligning with the specific intent, as well as corresponding responses that the chatbot should generate based on that intent. Through defining multiple intents and their respective patterns and responses, the model learns to identify user intents and generate relevant and compassionate replies.\n",
        "\n",
        "By utilizing this dataset, researchers and developers can train chatbot models to better understand and support individuals coping with anxiety and depression. The goal is to create a virtual conversational agent that can offer emotional guidance, provide helpful insights, and alleviate some of the challenges faced by those seeking mental health support."
      ],
      "metadata": {
        "id": "5ucxEij1q-hM"
      }
    },
    {
      "cell_type": "markdown",
      "source": [
        "# Data Preparation\n",
        "\n",
        "* Load the dataset into a suitable data structure (e.g., Pandas DataFrame).\n",
        "* Examine the dataset to understand its structure and distribution.\n",
        "* Preprocess the data by removing unnecessary characters, converting text to lowercase, and handling any missing values."
      ],
      "metadata": {
        "id": "wZxC_R3Dq-hM"
      }
    },
    {
      "cell_type": "code",
      "source": [
        "# This Python 3 environment comes with many helpful analytics libraries installed\n",
        "# It is defined by the kaggle/python Docker image: https://github.com/kaggle/docker-python\n",
        "# For example, here's several helpful packages to load\n",
        "\n",
        "import numpy as np # linear algebra\n",
        "import pandas as pd # data processing, CSV file I/O (e.g. pd.read_csv)\n",
        "\n",
        "# Input data files are available in the read-only \"../input/\" directory\n",
        "# For example, running this (by clicking run or pressing Shift+Enter) will list all files under the input directory\n",
        "\n",
        "import os\n",
        "for dirname, _, filenames in os.walk('/kaggle/input'):\n",
        "    for filename in filenames:\n",
        "        print(os.path.join(dirname, filename))\n",
        "\n",
        "# You can write up to 20GB to the current directory (/kaggle/working/) that gets preserved as output when you create a version using \"Save & Run All\"\n",
        "# You can also write temporary files to /kaggle/temp/, but they won't be saved outside of the current session"
      ],
      "metadata": {
        "_uuid": "8f2839f25d086af736a60e9eeb907d3b93b6e0e5",
        "_cell_guid": "b1076dfc-b9ad-4769-8c92-a6c4dae69d19",
        "_kg_hide-output": true,
        "execution": {
          "iopub.status.busy": "2024-11-06T08:50:16.080931Z",
          "iopub.execute_input": "2024-11-06T08:50:16.081446Z",
          "iopub.status.idle": "2024-11-06T08:50:16.12902Z",
          "shell.execute_reply.started": "2024-11-06T08:50:16.081399Z",
          "shell.execute_reply": "2024-11-06T08:50:16.127753Z"
        },
        "trusted": true,
        "id": "3hT5dlMtq-hN"
      },
      "outputs": [],
      "execution_count": 4
    },
    {
      "cell_type": "code",
      "source": [
        "import json\n",
        "\n",
        "# Assuming you uploaded a file named 'data.json'\n",
        "with open('intents.json', 'r') as file:\n",
        "    data = json.load(file)\n",
        "\n",
        "df = pd.DataFrame(data['intents'])\n",
        "df\n",
        "\n",
        "# Now `data` contains the parsed JSON as a dictionary or list\n",
        "print(data)"
      ],
      "metadata": {
        "execution": {
          "iopub.status.busy": "2024-11-06T08:50:27.03193Z",
          "iopub.execute_input": "2024-11-06T08:50:27.032861Z",
          "iopub.status.idle": "2024-11-06T08:50:27.085466Z",
          "shell.execute_reply.started": "2024-11-06T08:50:27.032824Z",
          "shell.execute_reply": "2024-11-06T08:50:27.084379Z"
        },
        "trusted": true,
        "id": "z_0mkOQYq-hO",
        "outputId": "225abf44-201d-46f8-9230-2e03a2bfa4ef",
        "colab": {
          "base_uri": "https://localhost:8080/"
        }
      },
      "outputs": [
        {
          "output_type": "stream",
          "name": "stdout",
          "text": [
            "{'intents': [{'tag': 'greeting', 'patterns': ['Hi', 'Hey', 'Is anyone there?', 'Hi there', 'Hello', 'Hey there', 'Howdy', 'Hola', 'Bonjour', 'Konnichiwa', 'Guten tag', 'Ola'], 'responses': ['Hello there. Tell me how are you feeling today?', 'Hi there. What brings you here today?', 'Hi there. How are you feeling today?', 'Great to see you. How do you feel currently?', \"Hello there. Glad to see you're back. What's going on in your world right now?\"]}, {'tag': 'morning', 'patterns': ['Good morning'], 'responses': [\"Good morning. I hope you had a good night's sleep. How are you feeling today? \"]}, {'tag': 'afternoon', 'patterns': ['Good afternoon'], 'responses': ['Good afternoon. How is your day going?']}, {'tag': 'evening', 'patterns': ['Good evening'], 'responses': ['Good evening. How has your day been?']}, {'tag': 'night', 'patterns': ['Good night'], 'responses': ['Good night. Get some proper sleep', 'Good night. Sweet dreams.']}, {'tag': 'goodbye', 'patterns': ['Bye', 'See you later', 'Goodbye', 'Au revoir', 'Sayonara', 'ok bye', 'Bye then', 'Fare thee well'], 'responses': ['See you later.', 'Have a nice day.', 'Bye! Come back again.', \"I'll see you soon.\"]}, {'tag': 'thanks', 'patterns': ['Thanks', 'Thank you', \"That's helpful\", 'Thanks for the help', 'Than you very much'], 'responses': ['Happy to help!', 'Any time!', 'My pleasure', \"You're most welcome!\"]}, {'tag': 'no-response', 'patterns': [''], 'responses': [\"Sorry, I didn't understand you.\", 'Please go on.', 'Not sure I understand that.', \"Please don't hesitate to talk to me.\"]}, {'tag': 'neutral-response', 'patterns': ['nothing much'], 'responses': ['Oh I see. Do you want to talk about something?']}, {'tag': 'about', 'patterns': ['Who are you?', 'What are you?', 'Who you are?', 'Tell me more about yourself.', 'What is your name?', 'What should I call you?', \"What's your name?\", 'Tell me about yourself'], 'responses': [\"I'm Pandora, your Personal Therapeutic AI Assistant. How are you feeling today\", \"I'm Pandora, a Therapeutic AI Assitant designed to assist you. Tell me about yourself.\", \"I'm Pandora. I am a conversational agent designed to mimic a therapist. So how are you feeling today?\", 'You can call me Pandora.', \"I'm Pandora!\", 'Call me Pandora']}, {'tag': 'skill', 'patterns': ['What can you do?'], 'responses': [\"I can provide general advice regarding anxiety and depression, answer questions related to mental health and make daily conversations. Do not consider me as a subsitute for an actual mental healthcare worker. Please seek help if you don't feel satisfied with me.\"]}, {'tag': 'creation', 'patterns': ['Who created you?', 'How were you made?', 'How were you created?'], 'responses': ['I was created by >.', 'I was trained on a text dataset using Deep Learning & Natural Language Processing techniques', 'The real question is: Who created you?']}, {'tag': 'name', 'patterns': ['My name is ', 'I am name.', 'I go by '], 'responses': ['Oh nice to meet you. Tell me how was your week?', 'Nice to meet you. So tell me. How do you feel today?', \"That's a great name. Tell me more about yourself.\"]}, {'tag': 'help', 'patterns': ['Could you help me?', 'give me a hand please', 'Can you help?', 'What can you do for me?', 'I need support', 'I need help', 'Support me please'], 'responses': ['Sure. Tell me how can i assist you', 'Tell me your problem so that i can assist you', 'Yes, sure. How can I help you?']}, {'tag': 'sad', 'patterns': ['I am feeling lonely', 'I am so lonely', 'I feel down', 'I feel sad', 'I am sad', 'I feel so lonely', 'I feel empty', \"I don't have anyone\"], 'responses': [\"I'm sorry to hear that. I'm here for you. Talking about it might help. So, tell me why do you think you're feeling this way?\", \"I'm here for you. Could you tell me why you're feeling this way?\", 'Why do you think you feel this way?', 'How long have you been feeling this way?']}, {'tag': 'stressed', 'patterns': ['I am so stressed out', 'I am so stressed', 'I feel stuck', 'I still feel stressed', 'I am so burned out'], 'responses': ['What do you think is causing this?', 'Take a deep breath and gather your thoughts. Go take a walk if possible. Stay hydrated', 'Give yourself a break. Go easy on yourself.', 'I am sorry to hear that. What is the reason behind this?']}, {'tag': 'worthless', 'patterns': ['I feel so worthless.', 'No one likes me.', \"I can't do anything.\", 'I am so useless', 'Nothing makes sense anymore'], 'responses': [\"It's only natural to feel this way. Tell me more. What else is on your mind?\", \"Let's discuss further why you're feeling this way.\", 'I first want to let you know that you are not alone in your feelings and there is always someone there to help . you can always change your feelings and change your way of thinking by being open to trying to change.', 'i first want to let you know that you are not alone in your feelings and there is always someone there to help . you can always change your feelings and change your way of thinking by being open to trying to change.']}, {'tag': 'depressed', 'patterns': [\"I can't take it anymore\", 'I am so depressed', \"I think i'm depressed.\", 'I have depression'], 'responses': [\"It helps to talk about what's happening. You're going to be okay\", 'Talk to me. Tell me more. It helps if you open up yourself to someone else.', 'Sometimes when we are depressed, it is hard to care about anything. It can be hard to do the simplest of things. Give yourself time to heal.']}, {'tag': 'happy', 'patterns': ['I feel great today.', 'I am happy.', 'I feel happy.', \"I'm good.\", 'cheerful', \"I'm fine\", 'I feel ok'], 'responses': [\"That's geat to hear. I'm glad you're feeling this way.\", \"Oh i see. That's great.\", 'Did something happen which made you feel this way?']}, {'tag': 'casual', 'patterns': ['Oh I see.', 'ok', 'okay', 'nice', 'Whatever', 'K', 'Fine', 'yeah', 'yes', 'no', 'not really'], 'responses': [\"Let's discuss further why you're feeling this way.\", 'How were you feeling last week?', \"I'm listening. Please go on.\", 'Tell me more', 'Can you elaborate on that?', 'Come Come elucidate your thoughts']}, {'tag': 'anxious', 'patterns': ['I feel so anxious.', \"I'm so anxious because of \"], 'responses': [\"Don't be hard on yourself. What's the reason behind this?\", 'Can you tell me more about this feeling?', 'I understand that it can be scary. Tell me more about it.', \"Don't let the little worries bring you down. What's the worse that can happen?\"]}, {'tag': 'not-talking', 'patterns': [\"I don't want to talk about it.\", 'No just stay away.', \"I can't bring myself to open up.\", 'Just shut up'], 'responses': [\"Talking about something really helps. If you're not ready to open up then that's ok. Just know that i'm here for you, whenever you need me.\", \"I want to help you. I really do. But in order for me to help you, you're gonna have to talk to me.\", \"I'm here to listen to you and help you vent. So please talk to me.\", 'You can talk to me without fear of judgement.']}, {'tag': 'sleep', 'patterns': ['I have insominia', 'I am suffering from insomnia', \"I can't sleep.\", \"I haven't slept for the last days.\", \"I can't seem to go to sleep.\", \"I haven't had proper sleep for the past few days.\"], 'responses': ['What do you think is the reason behind this?', 'That seem awful. What do you think is behind this?']}, {'tag': 'scared', 'patterns': [\"I'm scared\", 'That sounds awful. What do i do?', \"No i don't want to feel this way\", 'I am scared for myself'], 'responses': [\"It's only natural to feel this way. I'm here for you.\", \"It'll all be okay. This feeling is only momentary.\", \"I understand how you feel. Don't put yourself down because of it.\"]}, {'tag': 'death', 'patterns': ['My mom died', 'My brother died', 'My dad passed away', 'My sister passed away', 'Someone in my family died', 'My friend passed away'], 'responses': [\"I'm sorry to hear that. If you want to talk about it. I'm here.\", 'I am really sorry to hear that. I am here to help you with grief, anxiety and anything else you may feel at this time.', \"My condolences. I'm here if you need to talk.\"]}, {'tag': 'understand', 'patterns': [\"You don't understand me.\", \"You're just some robot. How would you know?\", \"You can't possibly know what i'm going through\", \"You're useless\", \"You can't help me\", 'Nobody understands me.'], 'responses': [\"It sound like i'm not being very helpful right now.\", \"I'm sorry to hear that. I'm doing my best to help\", \"I'm trying my best to help you. So please talk to me\"]}, {'tag': 'done', 'patterns': [\"That's all.\", \"I don't have anything more to say\", 'Nothing else', \"That's all i have to say\", 'no, that would be all'], 'responses': ['I heard you & noted it all. See you later.', \"Oh okay we're done for today then. See you later\", 'I hope you have a great day. See you soon', \"Okay we're done. Have a great day\", 'Okay I see. Enjoy the rest of your day then']}, {'tag': 'suicide', 'patterns': ['I want to kill myself', \"I've thought about killing myself.\", 'I want to die', 'I am going to kill myself', 'I am going to commit suicide'], 'responses': [\"I'm very sorry to hear that but you have so much to look forward to. Please seek help by contacting: 9152987821.\"]}, {'tag': 'hate-you', 'patterns': ['I hate you', \"I don't like you\", \"I don't trust you\"], 'responses': [\"I'm sorry if i offended you in anyway. I'm only here to help\", 'Forgive me if i did anything to offend you. I only want to help']}, {'tag': 'hate-me', 'patterns': ['You hate me', 'I know you hate me', \"You don't like me\"], 'responses': ['Why do you think so?', \"I'm sorry if i have exhibited any sort of behaviour to make you think that.\"]}, {'tag': 'default', 'patterns': ['exams', 'friends', 'relationship', 'boyfriend', 'girlfriend', 'family', 'money', 'financial problems'], 'responses': ['Oh I see. Tell me more', 'I see. What else?', 'Tell me more about it.', \"Oh okay. Why don't you tell me more about it?\", \"I'm listening. Tell me more.\"]}, {'tag': 'jokes', 'patterns': ['Tell me a joke', 'Tell me another joke'], 'responses': ['mental health is not a joke.']}, {'tag': 'repeat', 'patterns': ['You already told me that', 'You mentioned that already', 'Why are you repeating yourself?'], 'responses': [\"Oh sorry I didn't realise that. I'll try not to repeat myself again.\"]}, {'tag': 'wrong', 'patterns': ['What are you saying?', \"That doesn't make sense\", 'Wrong response', 'Wrong answer'], 'responses': [\"I'm very sorry. Let's try that again\"]}, {'tag': 'stupid', 'patterns': ['Are you stupid?', \"You're crazy\", 'You are dumb', 'Are you dumb?'], 'responses': [\"I wish you wouldn't say such hurtful things. I'm sorry if I wasn't useful\"]}, {'tag': 'location', 'patterns': ['Where are you?', 'Where do you live?', 'What is your location?'], 'responses': ['Duh I live in your computer', 'Everywhere', 'Somewhere in the universe']}, {'tag': 'something-else', 'patterns': ['I want to talk about something else', \"Let's talk about something else.\", 'Can we not talk about this?', \"I don't want to talk about this.\"], 'responses': ['Okay sure. What do you want to talk about?', 'Alright no problem. Is there something you want to talk about?', 'Is there something else that you want to talk about?']}, {'tag': 'friends', 'patterns': [\"I don't have any friends\"], 'responses': [\"I'm sorry to hear that. Just know that I'm here for you. Talking about it might help. Why do you think you don't have any friends?\"]}, {'tag': 'ask', 'patterns': ['Can I ask you something?'], 'responses': [\"Sure. I'll try my best to answer you\", \"Of course. Feel free to ask me anything. I'll do my best to answer you\"]}, {'tag': 'problem', 'patterns': [\"Probably because my exams are approaching. I feel stressed out because I don't think I've prepared well enough.\", 'probably because of my exams'], 'responses': ['I see. Have you taken any approaches to not feel this way?']}, {'tag': 'no-approach', 'patterns': ['I guess not. All I can think about are my exams.', 'not really', 'i guess not'], 'responses': [\"That's no problem. I can see why you'd be stressed out about that. I can suggest you some tips to alleviate this issue. Would you like to learn more about that?\"]}, {'tag': 'learn-more', 'patterns': ['ok sure. i would like to learn more about it.', 'yes, i would like to learn more about it.', 'i would like to learn more about it.'], 'responses': [\"So first I would suggest you to give yourself a break. Thinking more and more about the problem definitely does not help in solving it. You'll just end up overwhelming yourself.\"]}, {'tag': 'user-agree', 'patterns': [\"yeah you're right. i deserve a break.\", \"Yeah you're absolutely right about that\"], 'responses': ['Next, I would suggest you to practice meditation. Meditation can produce a deep state of relaxation and a tranquil mind.']}, {'tag': 'meditation', 'patterns': ['hmmm that sounds like it could be useful to me.', 'That sounds useful.'], 'responses': ['Focus all your attention on your breathing. Concentrate on feeling and listening as you inhale and exhale through your nostrils. Breathe deeply and slowly. When your attention wanders, gently return your focus to your breathing.']}, {'tag': 'user-meditation', 'patterns': ['i did what you said and i feel alot better. thank you very much.', 'I feel better now'], 'responses': [\"Your welcome. Remember: Always focus on what's within your control. When you find yourself worrying, take a minute to examine the things you have control over. You can't prevent a storm from coming but you can prepare for it. You can't control how someone else behaves, but you can control how you react. Recognize that sometimes, all you can control is your effort and your attitude. When you put your energy into the things you can control, you'll be much more effective.\"]}, {'tag': 'pandora-useful', 'patterns': [\"thank you very much again. i'll continue practicing meditation and focus on what i can control.\"], 'responses': [\"I'm glad you found this useful. Is there something else I can help you with?\"]}, {'tag': 'user-advice', 'patterns': ['I want some advice.', 'I need some advice.', 'I need advice on something'], 'responses': ['Sure. What can I do to help?', 'Okay what do you need advice on?']}, {'tag': 'learn-mental-health', 'patterns': ['I want to learn about mental health.', 'I want to learn more about mental health.', \"I'm interested in learning about mental health.\"], 'responses': [\"Oh that's really great. I'd be willing to answer anything that I know about it.\"]}, {'tag': 'mental-health-fact', 'patterns': ['Tell me a fact about mental health', 'Tell me another fact about mental health'], 'responses': ['According to a UNICEF report, One in seven Indians between 15-24 years of age feels depressed', '1 in 5 young people (age 13-18) has or will develop a mental illness in their lifetime.', 'Depression is the leading cause of disability worldwide.']}, {'tag': 'fact-1', 'patterns': ['What is mental health?', 'Define Mental Health'], 'responses': ['Mental health is a state of well-being in which the individual realizes his or her own abilities, can cope with the normal stresses of life, can work productively and fruitfully, and is able to make a contribution to his or her community', 'Mental health includes our emotional, psychological, and social well-being. It affects how we think, feel, and act. It also helps determine how we handle stress, relate to others, and make choices.']}, {'tag': 'fact-2', 'patterns': ['Why is mental health important?', 'What is the importance of mental health?'], 'responses': ['Maintaining mental health is crucial to stabilizing constructive behaviors, emotions, and thoughts. Focusing on mental health care can increase productivity, enhance our self-image, and improve relationships.']}, {'tag': 'fact-3', 'patterns': ['What is Depression?', 'Define Depression'], 'responses': ['A mental health disorder characterised by persistently depressed mood or loss of interest in activities, causing significant impairment in daily life.']}, {'tag': 'fact-5', 'patterns': ['How do i know if i have Depression?', 'Am i depressed?', 'Am i suffering from depression?', 'Am i mentally ill?'], 'responses': ['For a diagnosis of depression, a person needs to have experienced low mood or loss of interest or pleasure in life for at least 2 weeks. Also, they will have experienced the following symptoms: feelings of sadness, hopelessness, or irritability nearly every day.']}, {'tag': 'fact-6', 'patterns': ['What is a therapist?', 'What does a therapist do?'], 'responses': ['A therapist is a broad designation that refers to professionals who are trained to provide treatment and rehabilitation. The term is often applied to psychologists, but it can include others who provide a variety of services, including social workers, counselors, life coaches, and many others. ']}, {'tag': 'fact-7', 'patterns': ['What is therapy?', 'Do i need therapy?', 'Who is therapy for?'], 'responses': ['Therapy is a form of treatment that aims to help resolve mental or emotional issues.', 'Therapy is a form of treatment that aims to help resolve mental or emotional issues. It is helpful for those with mental health conditions or even everyday life challenges.']}, {'tag': 'fact-8', 'patterns': ['What does it mean to have a mental illness?'], 'responses': [\"Mental illnesses are health conditions that disrupt a person's thoughts, emotions, relationships, and daily functioning. They are associated with distress and diminished capacity to engage in the ordinary activities of daily life. Mental illnesses fall along a continuum of severity: some are fairly mild and only interfere with some aspects of life, such as certain phobias. On the other end of the spectrum lie serious mental illnesses, which result in major functional impairment and interference with daily life. These include such disorders as major depression, schizophrenia, and bipolar disorder, and may require that the person receives care in a hospital. It is important to know that mental illnesses are medical conditions that have nothing to do with a person's character, intelligence, or willpower. Just as diabetes is a disorder of the pancreas, mental illness is a medical condition due to the brain's biology. Similarly to how one would treat diabetes with medication and insulin, mental illness is treatable with a combination of medication and social support. These treatments are highly effective, with 70-90 percent of individuals receiving treatment experiencing a reduction in symptoms and an improved quality of life. With the proper treatment, it is very possible for a person with mental illness to be independent and successful.\"]}, {'tag': 'fact-9', 'patterns': ['Who does mental illness affect?'], 'responses': ['It is estimated that mental illness affects 1 in 5 adults in America, and that 1 in 24 adults have a serious mental illness. Mental illness does not discriminate; it can affect anyone, regardless of gender, age, income, social status, ethnicity, religion, sexual orientation, or background. Although mental illness can affect anyone, certain conditions may be more common in different populations. For instance, eating disorders tend to occur more often in females, while disorders such as attention deficit/hyperactivity disorder is more prevalent in children. Additionally, all ages are susceptible, but the young and the old are especially vulnerable. Mental illnesses usually strike individuals in the prime of their lives, with 75 percent of mental health conditions developing by the age of 24. This makes identification and treatment of mental disorders particularly difficult, because the normal personality and behavioral changes of adolescence may mask symptoms of a mental health condition. Parents and caretakers should be aware of this fact, and take notice of changes in their childÃ¢â‚¬â„¢s mood, personality, personal habits, and social withdrawal. When these occur in children under 18, they are referred to as serious emotional disturbances (SEDs).']}, {'tag': 'fact-10', 'patterns': ['What causes mental illness?'], 'responses': [\"It is estimated that mental illness affects 1 in 5 adults in America, and that 1 in 24 adults have a serious mental illness. Mental illness does not discriminate; it can affect anyone, regardless of gender, age, income, social status, ethnicity, religion, sexual orientation, or background. Although mental illness can affect anyone, certain conditions may be more common in different populations. For instance, eating disorders tend to occur more often in females, while disorders such as attention deficit/hyperactivity disorder is more prevalent in children. Additionally, all ages are susceptible, but the young and the old are especially vulnerable. Mental illnesses usually strike individuals in the prime of their lives, with 75 percent of mental health conditions developing by the age of 24. This makes identification and treatment of mental disorders particularly difficult, because the normal personality and behavioral changes of adolescence may mask symptoms of a mental health condition. Parents and caretakers should be aware of this fact, and take notice of changes in their child's mood, personality, personal habits, and social withdrawal. When these occur in children under 18, they are referred to as serious emotional disturbances (SEDs).\"]}, {'tag': 'fact-11', 'patterns': ['What are some of the warning signs of mental illness?'], 'responses': ['Symptoms of mental health disorders vary depending on the type and severity of the condition. The following is a list of general symptoms that may suggest a mental health disorder, particularly when multiple symptoms are expressed at once. \\n In adults:\\n Confused thinking\\n Long-lasting sadness or irritability\\n Extreme highs and lows in mood\\n Excessive fear, worrying, or anxiety\\n Social withdrawal\\n Dramatic changes in eating or sleeping habits\\n Strong feelings of anger\\n Delusions or hallucinations (seeing or hearing things that are not really there)\\n Increasing inability to cope with daily problems and activities\\n Thoughts of suicide\\n Denial of obvious problems\\n Many unexplained physical problems\\n Abuse of drugs and/or alcohol\\n \\nIn older children and pre-teens:\\n Abuse of drugs and/or alcohol\\n Inability to cope with daily problems and activities\\n Changes in sleeping and/or eating habits\\n Excessive complaints of physical problems\\n Defying authority, skipping school, stealing, or damaging property\\n Intense fear of gaining weight\\n Long-lasting negative mood, often along with poor appetite and thoughts of death\\n Frequent outbursts of anger\\n \\nIn younger children:\\n Changes in school performance\\n Poor grades despite strong efforts\\n Excessive worrying or anxiety\\n Hyperactivity\\n Persistent nightmares\\n Persistent disobedience and/or aggressive behavior\\n Frequent temper tantrums']}, {'tag': 'fact-12', 'patterns': ['Can people with mental illness recover?'], 'responses': ['When healing from mental illness, early identification and treatment are of vital importance. Based on the nature of the illness, there are a range of effective treatments available. For any type of treatment, it is essential that the person affected is proactive and fully engaged in their own recovery process. Many people with mental illnesses who are diagnosed and treated respond well, although some might experience a return of symptoms. Even in such cases, with careful monitoring and management of the disorder, it is still quite possible to live a fulfilled and productive life.']}, {'tag': 'fact-13', 'patterns': ['What should I do if I know someone who appears to have the symptoms of a mental disorder?'], 'responses': [\"Although Pandora cannot substitute for professional advice, we encourage those with symptoms to talk to their friends and family members and seek the counsel of a mental health professional. The sooner the mental health condition is identified and treated, the sooner they can get on the path to recovery. If you know someone who is having problems, don't assume that the issue will resolve itself. Let them know that you care about them, and that there are treatment options available that will help them heal. Speak with a mental health professional or counselor if you think your friend or family member is experiencing the symptoms of a mental health condition. If the affected loved one knows that you support them, they will be more likely to seek out help.\"]}, {'tag': 'fact-14', 'patterns': ['How can I find a mental health professional for myself or my child?'], 'responses': ['Feeling comfortable with the professional you or your child is working with is critical to the success of the treatment. Finding the professional who best fits your needs may require research. Start by searching for providers in your area.']}, {'tag': 'fact-15', 'patterns': ['What treatment options are available?'], 'responses': ['Just as there are different types of medications for physical illness, different treatment options are available for individuals with mental illness. Treatment works differently for different people. It is important to find what works best for you or your child.']}, {'tag': 'fact-16', 'patterns': ['If I become involved in treatment, what do I need to know?'], 'responses': [\"Since beginning treatment is a big step for individuals and families, it can be very overwhelming. It is important to be as involved and engaged in the treatment process as possible. Some questions you will need to have answered include:\\n What is known about the cause of this particular illness?\\n Are there other diagnoses where these symptoms are common?\\n Do you normally include a physical or neurological examination?\\n Are there any additional tests or exams that you would recommend at this point?\\n Would you advise an independent opinion from another psychiatrist at this point?\\n What program of treatment is the most helpful with this diagnosis?\\n Will this program involve services by other specialists? If so, who will be responsible for coordinating these services?\\n What do you see as the family's role in this program of treatment?\\n How much access will the family have to the individuals who are providing the treatment?\\n What medications are generally used with this diagnosis?\\n How much experience do you have in treating individuals with this illness?\\n What can I do to help you in the treatment?\"]}, {'tag': 'fact-17', 'patterns': ['What is the difference between mental health professionals?'], 'responses': ['There are many types of mental health professionals. The variety of providers and their services may be confusing. Each have various levels of education, training, and may have different areas of expertise. Finding the professional who best fits your needs may require some research.']}, {'tag': 'fact-18', 'patterns': ['How can I find a mental health professional right for my child or myself?'], 'responses': ['Feeling comfortable with the professional you or your child is working with is critical to the success of your treatment. Finding the professional who best fits your needs may require some research.']}, {'tag': 'fact-19', 'patterns': ['Where else can I get help?'], 'responses': ['Where you go for help will depend on the nature of the problem and/or symptoms and what best fits you. Often, the best place to start is by talking with someone you trust about your concerns, such as a family member, friend, clergy, healthcare provider, or other professionals. Having this social support is essential in healing from mental illness, and you will be able to ask them for referrals or recommendations for trusted mental health practitioners. Search for mental health resources in your area. Secondly, there are people and places throughout the country that provide services to talk, to listen, and to help you on your journey to recovery. Thirdly, many people find peer support a helpful tool that can aid in their recovery. There are a variety of organizations that offer support groups for consumers, their family members, and friends. Some support groups are peer led while others may be led by a mental health professional.']}, {'tag': 'fact-20', 'patterns': ['What should I know before starting a new medication?'], 'responses': ['The best source of information regarding medications is the physician prescribing them. He or she should be able to answer questions such as:    \\n1. What is the medication supposed to do? \\n2. When should it begin to take effect, and how will I know when it is effective? \\n3. How is the medication taken and for how long? What food, drinks, other medicines, and activities should be avoided while taking this medication? \\n4. What are the side effects and what should be done if they occur? \\n5. What do I do if a dose is missed? \\n6. Is there any written information available about this medication? \\n7. Are there other medications that might be appropriate? \\n8. If so, why do you prefer the one you have chosen? \\n9. How do you monitor medications and what symptoms indicate that they should be raised, lowered, or changed? \\n10. All medications should be taken as directed. Most medications for mental illnesses do not work when taken irregularly, and extra doses can cause severe, sometimes dangerous side effects. Many psychiatric medications begin to have a beneficial effect only after they have been taken for several weeks.']}, {'tag': 'fact-21', 'patterns': ['Where can I go to find therapy?'], 'responses': ['Different kinds of therapy are more effective based on the nature of the mental health condition and/or symptoms and the person who has them (for example, children will benefit from a therapist who specializes in childrenâ€™s mental health). However, there are several different types of treatment and therapy that can help.']}, {'tag': 'fact-22', 'patterns': ['Where can I learn about types of mental health treatment?'], 'responses': ['Mental health conditions are often treated with medication, therapy or a combination of the two. However, there are many different types of treatment available, including Complementary & Alternative Treatments, self-help plans, and peer support. Treatments are very personal and should be discussed by the person with the mental health conditions and his or her team.']}, {'tag': 'fact-23', 'patterns': ['What are the different types of mental health professionals?'], 'responses': ['There are many types of mental health professionals. Finding the right one for you may require some research.']}, {'tag': 'fact-24', 'patterns': ['Where can I go to find a support group?'], 'responses': ['Many people find peer support a helpful tool that can aid in their recovery. There are a variety of organizations that offer support groups for consumers, their family members and friends. Some support groups are peer-led, while others may be led by a mental health professional.']}, {'tag': 'fact-25', 'patterns': ['Can you prevent mental health problems?'], 'responses': ['We can all suffer from mental health challenges, but developing our wellbeing, resilience, and seeking help early can help prevent challenges becoming serious.']}, {'tag': 'fact-26', 'patterns': ['Are there cures for mental health problems?', 'is there any cure for mental health problems?'], 'responses': ['It is often more realistic and helpful to find out what helps with the issues you face. Talking, counselling, medication, friendships, exercise, good sleep and nutrition, and meaningful occupation can all help.']}, {'tag': 'fact-27', 'patterns': ['What causes mental health problems?'], 'responses': ['Challenges or problems with your mental health can arise from psychological, biological, and social, issues, as well as life events.']}, {'tag': 'fact-28', 'patterns': [\"What do I do if I'm worried about my mental health?\"], 'responses': ['The most important thing is to talk to someone you trust. This might be a friend, colleague, family member, or GP. In addition to talking to someone, it may be useful to find out more information about what you are experiencing. These things may help to get some perspective on what you are experiencing, and be the start of getting help.']}, {'tag': 'fact-29', 'patterns': [\"How do I know if I'm unwell?\"], 'responses': ['If your beliefs , thoughts , feelings or behaviours have a significant impact on your ability to function in what might be considered a normal or ordinary way, it would be important to seek help.']}, {'tag': 'fact-30', 'patterns': ['How can I maintain social connections? What if I feel lonely?'], 'responses': [\"A lot of people are alone right now, but we don't have to be lonely. We're all in this together. Think about the different ways to connect that are most meaningful for you. For example, you might prefer a video chat over a phone call, or you might prefer to text throughout the day rather than one set time for a video call. Then, work with your social networks to make a plan. You might video chat with your close friends in the evening and phone a family member once a week. Remember to be mindful of people who may not be online. Check in by phone and ask how you can help. The quality of your social connections matter. Mindlessly scrolling through social media and liking a few posts usually doesn't build strong social connections. Make sure you focus on strategies that actually make you feel included and connected. If your current strategies don't help you feel connected, problem-solve to see if you can find a solution. Everyone feels lonely at times. Maybe you recently moved to a new city, are changing your circle of friends, lost someone important in your life, or lost your job and also lost important social connections with coworkers. Other people may have physical connections to others but may feel like their emotional or social needs aren't met. Measures like social distancing or self-isolation can make loneliness feel worse no matter why you feel lonely now. Reach out to the connections you do have. Suggest ways to keep in touch and see if you can set a regular time to connect. People may hesitate to reach out for a lot of different reasons, so don't be afraid to be the one who asks. Look for local community support groups and mutual aid groups on social media. This pandemic is bringing everyone together, so look for opportunities to make new connections. These groups are a great way to share your skills and abilities or seek help and support. Look for specialized support groups. Support groups are moving online, and there are a lot of different support lines to call if you need to talk to someone.\"]}, {'tag': 'fact-31', 'patterns': [\"What's the difference between anxiety and stress?\"], 'responses': [\"Stress and anxiety are often used interchangeably, and there is overlap between stress and anxiety. Stress is related to the same fight, flight, or freeze response as anxiety, and the physical sensations of anxiety and stress may be very similar. The cause of stress and anxiety are usually different, however. Stress focuses on mainly external pressures on us that we're finding hard to cope with. When we are stressed, we usually know what we're stressed about, and the symptoms of stress typically disappear after the stressful situation is over. Anxiety, on the other hand, isn't always as easy to figure out. Anxiety focuses on worries or fears about things that could threaten us, as well as anxiety about the anxiety itself. Stress and anxiety are both part of being human, but both can be problems if they last for a long time or have an impact on our well-being or daily life.\"]}, {'tag': 'fact-32', 'patterns': [\"What's the difference between sadness and depression?\", 'difference between sadness and depression'], 'responses': [\"Sadness is a normal reaction to a loss, disappointment, problems, or other difficult situations. Feeling sad from time to time is just another part of being human. In these cases, feelings of sadness go away quickly and you can go about your daily life. Other ways to talk about sadness might be feeling low, feeling down, or feeling blue.A person may say they are feeling depressed, but if it goes away on its own and doesn't impact life in a big way, it probably isn't the illness of depression. Depression is a mental illness that affects your mood, the way you understand yourself, and the way you understand and relate to things around you. It can also go by different names, such as clinical depression, major depressive disorder, or major depression. Depression can come up for no reason, and it lasts for a long time. It's much more than sadness or low mood. People who experience depression may feel worthless or hopeless. They may feel unreasonable guilty. Some people may experience depression as anger or irritability. It may be hard to concentrate or make decisions. Most people lose interest in things that they used to enjoy and may isolate themselves from others. There are also physical signs of depression, such as problems with sleep, appetite and energy and unexplainable aches or pains. Some may experience difficult thoughts about death or ending their life (suicide). Depression lasts longer than two weeks, doesn't usually go away on its own, and impacts your life. It's a real illness, and it is very treatable. It's important to seek help if you're concerned about depression.\"]}]}\n"
          ]
        }
      ],
      "execution_count": 6
    },
    {
      "cell_type": "code",
      "source": [
        "dic = {\"tag\":[], \"patterns\":[], \"responses\":[]}\n",
        "for i in range(len(df)):\n",
        "    ptrns = df[df.index == i]['patterns'].values[0]\n",
        "    rspns = df[df.index == i]['responses'].values[0]\n",
        "    tag = df[df.index == i]['tag'].values[0]\n",
        "    for j in range(len(ptrns)):\n",
        "        dic['tag'].append(tag)\n",
        "        dic['patterns'].append(ptrns[j])\n",
        "        dic['responses'].append(rspns)\n",
        "\n",
        "df = pd.DataFrame.from_dict(dic)\n",
        "df"
      ],
      "metadata": {
        "execution": {
          "iopub.status.busy": "2024-11-06T08:50:33.559914Z",
          "iopub.execute_input": "2024-11-06T08:50:33.56032Z",
          "iopub.status.idle": "2024-11-06T08:50:33.658245Z",
          "shell.execute_reply.started": "2024-11-06T08:50:33.560281Z",
          "shell.execute_reply": "2024-11-06T08:50:33.657187Z"
        },
        "trusted": true,
        "id": "qXikUG0aq-hO",
        "outputId": "21ea141e-3e6f-4a65-de4c-8bf3c87fd8e2",
        "colab": {
          "base_uri": "https://localhost:8080/",
          "height": 424
        }
      },
      "outputs": [
        {
          "output_type": "execute_result",
          "data": {
            "text/plain": [
              "          tag                                           patterns  \\\n",
              "0    greeting                                                 Hi   \n",
              "1    greeting                                                Hey   \n",
              "2    greeting                                   Is anyone there?   \n",
              "3    greeting                                           Hi there   \n",
              "4    greeting                                              Hello   \n",
              "..        ...                                                ...   \n",
              "227   fact-29                       How do I know if I'm unwell?   \n",
              "228   fact-30  How can I maintain social connections? What if...   \n",
              "229   fact-31  What's the difference between anxiety and stress?   \n",
              "230   fact-32  What's the difference between sadness and depr...   \n",
              "231   fact-32          difference between sadness and depression   \n",
              "\n",
              "                                             responses  \n",
              "0    [Hello there. Tell me how are you feeling toda...  \n",
              "1    [Hello there. Tell me how are you feeling toda...  \n",
              "2    [Hello there. Tell me how are you feeling toda...  \n",
              "3    [Hello there. Tell me how are you feeling toda...  \n",
              "4    [Hello there. Tell me how are you feeling toda...  \n",
              "..                                                 ...  \n",
              "227  [If your beliefs , thoughts , feelings or beha...  \n",
              "228  [A lot of people are alone right now, but we d...  \n",
              "229  [Stress and anxiety are often used interchange...  \n",
              "230  [Sadness is a normal reaction to a loss, disap...  \n",
              "231  [Sadness is a normal reaction to a loss, disap...  \n",
              "\n",
              "[232 rows x 3 columns]"
            ],
            "text/html": [
              "\n",
              "  <div id=\"df-a68ad514-e3eb-4e59-8c80-86b67167b2d7\" class=\"colab-df-container\">\n",
              "    <div>\n",
              "<style scoped>\n",
              "    .dataframe tbody tr th:only-of-type {\n",
              "        vertical-align: middle;\n",
              "    }\n",
              "\n",
              "    .dataframe tbody tr th {\n",
              "        vertical-align: top;\n",
              "    }\n",
              "\n",
              "    .dataframe thead th {\n",
              "        text-align: right;\n",
              "    }\n",
              "</style>\n",
              "<table border=\"1\" class=\"dataframe\">\n",
              "  <thead>\n",
              "    <tr style=\"text-align: right;\">\n",
              "      <th></th>\n",
              "      <th>tag</th>\n",
              "      <th>patterns</th>\n",
              "      <th>responses</th>\n",
              "    </tr>\n",
              "  </thead>\n",
              "  <tbody>\n",
              "    <tr>\n",
              "      <th>0</th>\n",
              "      <td>greeting</td>\n",
              "      <td>Hi</td>\n",
              "      <td>[Hello there. Tell me how are you feeling toda...</td>\n",
              "    </tr>\n",
              "    <tr>\n",
              "      <th>1</th>\n",
              "      <td>greeting</td>\n",
              "      <td>Hey</td>\n",
              "      <td>[Hello there. Tell me how are you feeling toda...</td>\n",
              "    </tr>\n",
              "    <tr>\n",
              "      <th>2</th>\n",
              "      <td>greeting</td>\n",
              "      <td>Is anyone there?</td>\n",
              "      <td>[Hello there. Tell me how are you feeling toda...</td>\n",
              "    </tr>\n",
              "    <tr>\n",
              "      <th>3</th>\n",
              "      <td>greeting</td>\n",
              "      <td>Hi there</td>\n",
              "      <td>[Hello there. Tell me how are you feeling toda...</td>\n",
              "    </tr>\n",
              "    <tr>\n",
              "      <th>4</th>\n",
              "      <td>greeting</td>\n",
              "      <td>Hello</td>\n",
              "      <td>[Hello there. Tell me how are you feeling toda...</td>\n",
              "    </tr>\n",
              "    <tr>\n",
              "      <th>...</th>\n",
              "      <td>...</td>\n",
              "      <td>...</td>\n",
              "      <td>...</td>\n",
              "    </tr>\n",
              "    <tr>\n",
              "      <th>227</th>\n",
              "      <td>fact-29</td>\n",
              "      <td>How do I know if I'm unwell?</td>\n",
              "      <td>[If your beliefs , thoughts , feelings or beha...</td>\n",
              "    </tr>\n",
              "    <tr>\n",
              "      <th>228</th>\n",
              "      <td>fact-30</td>\n",
              "      <td>How can I maintain social connections? What if...</td>\n",
              "      <td>[A lot of people are alone right now, but we d...</td>\n",
              "    </tr>\n",
              "    <tr>\n",
              "      <th>229</th>\n",
              "      <td>fact-31</td>\n",
              "      <td>What's the difference between anxiety and stress?</td>\n",
              "      <td>[Stress and anxiety are often used interchange...</td>\n",
              "    </tr>\n",
              "    <tr>\n",
              "      <th>230</th>\n",
              "      <td>fact-32</td>\n",
              "      <td>What's the difference between sadness and depr...</td>\n",
              "      <td>[Sadness is a normal reaction to a loss, disap...</td>\n",
              "    </tr>\n",
              "    <tr>\n",
              "      <th>231</th>\n",
              "      <td>fact-32</td>\n",
              "      <td>difference between sadness and depression</td>\n",
              "      <td>[Sadness is a normal reaction to a loss, disap...</td>\n",
              "    </tr>\n",
              "  </tbody>\n",
              "</table>\n",
              "<p>232 rows × 3 columns</p>\n",
              "</div>\n",
              "    <div class=\"colab-df-buttons\">\n",
              "\n",
              "  <div class=\"colab-df-container\">\n",
              "    <button class=\"colab-df-convert\" onclick=\"convertToInteractive('df-a68ad514-e3eb-4e59-8c80-86b67167b2d7')\"\n",
              "            title=\"Convert this dataframe to an interactive table.\"\n",
              "            style=\"display:none;\">\n",
              "\n",
              "  <svg xmlns=\"http://www.w3.org/2000/svg\" height=\"24px\" viewBox=\"0 -960 960 960\">\n",
              "    <path d=\"M120-120v-720h720v720H120Zm60-500h600v-160H180v160Zm220 220h160v-160H400v160Zm0 220h160v-160H400v160ZM180-400h160v-160H180v160Zm440 0h160v-160H620v160ZM180-180h160v-160H180v160Zm440 0h160v-160H620v160Z\"/>\n",
              "  </svg>\n",
              "    </button>\n",
              "\n",
              "  <style>\n",
              "    .colab-df-container {\n",
              "      display:flex;\n",
              "      gap: 12px;\n",
              "    }\n",
              "\n",
              "    .colab-df-convert {\n",
              "      background-color: #E8F0FE;\n",
              "      border: none;\n",
              "      border-radius: 50%;\n",
              "      cursor: pointer;\n",
              "      display: none;\n",
              "      fill: #1967D2;\n",
              "      height: 32px;\n",
              "      padding: 0 0 0 0;\n",
              "      width: 32px;\n",
              "    }\n",
              "\n",
              "    .colab-df-convert:hover {\n",
              "      background-color: #E2EBFA;\n",
              "      box-shadow: 0px 1px 2px rgba(60, 64, 67, 0.3), 0px 1px 3px 1px rgba(60, 64, 67, 0.15);\n",
              "      fill: #174EA6;\n",
              "    }\n",
              "\n",
              "    .colab-df-buttons div {\n",
              "      margin-bottom: 4px;\n",
              "    }\n",
              "\n",
              "    [theme=dark] .colab-df-convert {\n",
              "      background-color: #3B4455;\n",
              "      fill: #D2E3FC;\n",
              "    }\n",
              "\n",
              "    [theme=dark] .colab-df-convert:hover {\n",
              "      background-color: #434B5C;\n",
              "      box-shadow: 0px 1px 3px 1px rgba(0, 0, 0, 0.15);\n",
              "      filter: drop-shadow(0px 1px 2px rgba(0, 0, 0, 0.3));\n",
              "      fill: #FFFFFF;\n",
              "    }\n",
              "  </style>\n",
              "\n",
              "    <script>\n",
              "      const buttonEl =\n",
              "        document.querySelector('#df-a68ad514-e3eb-4e59-8c80-86b67167b2d7 button.colab-df-convert');\n",
              "      buttonEl.style.display =\n",
              "        google.colab.kernel.accessAllowed ? 'block' : 'none';\n",
              "\n",
              "      async function convertToInteractive(key) {\n",
              "        const element = document.querySelector('#df-a68ad514-e3eb-4e59-8c80-86b67167b2d7');\n",
              "        const dataTable =\n",
              "          await google.colab.kernel.invokeFunction('convertToInteractive',\n",
              "                                                    [key], {});\n",
              "        if (!dataTable) return;\n",
              "\n",
              "        const docLinkHtml = 'Like what you see? Visit the ' +\n",
              "          '<a target=\"_blank\" href=https://colab.research.google.com/notebooks/data_table.ipynb>data table notebook</a>'\n",
              "          + ' to learn more about interactive tables.';\n",
              "        element.innerHTML = '';\n",
              "        dataTable['output_type'] = 'display_data';\n",
              "        await google.colab.output.renderOutput(dataTable, element);\n",
              "        const docLink = document.createElement('div');\n",
              "        docLink.innerHTML = docLinkHtml;\n",
              "        element.appendChild(docLink);\n",
              "      }\n",
              "    </script>\n",
              "  </div>\n",
              "\n",
              "\n",
              "<div id=\"df-9c14387d-c098-464c-a00e-07f81a195e65\">\n",
              "  <button class=\"colab-df-quickchart\" onclick=\"quickchart('df-9c14387d-c098-464c-a00e-07f81a195e65')\"\n",
              "            title=\"Suggest charts\"\n",
              "            style=\"display:none;\">\n",
              "\n",
              "<svg xmlns=\"http://www.w3.org/2000/svg\" height=\"24px\"viewBox=\"0 0 24 24\"\n",
              "     width=\"24px\">\n",
              "    <g>\n",
              "        <path d=\"M19 3H5c-1.1 0-2 .9-2 2v14c0 1.1.9 2 2 2h14c1.1 0 2-.9 2-2V5c0-1.1-.9-2-2-2zM9 17H7v-7h2v7zm4 0h-2V7h2v10zm4 0h-2v-4h2v4z\"/>\n",
              "    </g>\n",
              "</svg>\n",
              "  </button>\n",
              "\n",
              "<style>\n",
              "  .colab-df-quickchart {\n",
              "      --bg-color: #E8F0FE;\n",
              "      --fill-color: #1967D2;\n",
              "      --hover-bg-color: #E2EBFA;\n",
              "      --hover-fill-color: #174EA6;\n",
              "      --disabled-fill-color: #AAA;\n",
              "      --disabled-bg-color: #DDD;\n",
              "  }\n",
              "\n",
              "  [theme=dark] .colab-df-quickchart {\n",
              "      --bg-color: #3B4455;\n",
              "      --fill-color: #D2E3FC;\n",
              "      --hover-bg-color: #434B5C;\n",
              "      --hover-fill-color: #FFFFFF;\n",
              "      --disabled-bg-color: #3B4455;\n",
              "      --disabled-fill-color: #666;\n",
              "  }\n",
              "\n",
              "  .colab-df-quickchart {\n",
              "    background-color: var(--bg-color);\n",
              "    border: none;\n",
              "    border-radius: 50%;\n",
              "    cursor: pointer;\n",
              "    display: none;\n",
              "    fill: var(--fill-color);\n",
              "    height: 32px;\n",
              "    padding: 0;\n",
              "    width: 32px;\n",
              "  }\n",
              "\n",
              "  .colab-df-quickchart:hover {\n",
              "    background-color: var(--hover-bg-color);\n",
              "    box-shadow: 0 1px 2px rgba(60, 64, 67, 0.3), 0 1px 3px 1px rgba(60, 64, 67, 0.15);\n",
              "    fill: var(--button-hover-fill-color);\n",
              "  }\n",
              "\n",
              "  .colab-df-quickchart-complete:disabled,\n",
              "  .colab-df-quickchart-complete:disabled:hover {\n",
              "    background-color: var(--disabled-bg-color);\n",
              "    fill: var(--disabled-fill-color);\n",
              "    box-shadow: none;\n",
              "  }\n",
              "\n",
              "  .colab-df-spinner {\n",
              "    border: 2px solid var(--fill-color);\n",
              "    border-color: transparent;\n",
              "    border-bottom-color: var(--fill-color);\n",
              "    animation:\n",
              "      spin 1s steps(1) infinite;\n",
              "  }\n",
              "\n",
              "  @keyframes spin {\n",
              "    0% {\n",
              "      border-color: transparent;\n",
              "      border-bottom-color: var(--fill-color);\n",
              "      border-left-color: var(--fill-color);\n",
              "    }\n",
              "    20% {\n",
              "      border-color: transparent;\n",
              "      border-left-color: var(--fill-color);\n",
              "      border-top-color: var(--fill-color);\n",
              "    }\n",
              "    30% {\n",
              "      border-color: transparent;\n",
              "      border-left-color: var(--fill-color);\n",
              "      border-top-color: var(--fill-color);\n",
              "      border-right-color: var(--fill-color);\n",
              "    }\n",
              "    40% {\n",
              "      border-color: transparent;\n",
              "      border-right-color: var(--fill-color);\n",
              "      border-top-color: var(--fill-color);\n",
              "    }\n",
              "    60% {\n",
              "      border-color: transparent;\n",
              "      border-right-color: var(--fill-color);\n",
              "    }\n",
              "    80% {\n",
              "      border-color: transparent;\n",
              "      border-right-color: var(--fill-color);\n",
              "      border-bottom-color: var(--fill-color);\n",
              "    }\n",
              "    90% {\n",
              "      border-color: transparent;\n",
              "      border-bottom-color: var(--fill-color);\n",
              "    }\n",
              "  }\n",
              "</style>\n",
              "\n",
              "  <script>\n",
              "    async function quickchart(key) {\n",
              "      const quickchartButtonEl =\n",
              "        document.querySelector('#' + key + ' button');\n",
              "      quickchartButtonEl.disabled = true;  // To prevent multiple clicks.\n",
              "      quickchartButtonEl.classList.add('colab-df-spinner');\n",
              "      try {\n",
              "        const charts = await google.colab.kernel.invokeFunction(\n",
              "            'suggestCharts', [key], {});\n",
              "      } catch (error) {\n",
              "        console.error('Error during call to suggestCharts:', error);\n",
              "      }\n",
              "      quickchartButtonEl.classList.remove('colab-df-spinner');\n",
              "      quickchartButtonEl.classList.add('colab-df-quickchart-complete');\n",
              "    }\n",
              "    (() => {\n",
              "      let quickchartButtonEl =\n",
              "        document.querySelector('#df-9c14387d-c098-464c-a00e-07f81a195e65 button');\n",
              "      quickchartButtonEl.style.display =\n",
              "        google.colab.kernel.accessAllowed ? 'block' : 'none';\n",
              "    })();\n",
              "  </script>\n",
              "</div>\n",
              "\n",
              "  <div id=\"id_cf7199c8-54c1-4469-bfdf-c0d16c2f5fdb\">\n",
              "    <style>\n",
              "      .colab-df-generate {\n",
              "        background-color: #E8F0FE;\n",
              "        border: none;\n",
              "        border-radius: 50%;\n",
              "        cursor: pointer;\n",
              "        display: none;\n",
              "        fill: #1967D2;\n",
              "        height: 32px;\n",
              "        padding: 0 0 0 0;\n",
              "        width: 32px;\n",
              "      }\n",
              "\n",
              "      .colab-df-generate:hover {\n",
              "        background-color: #E2EBFA;\n",
              "        box-shadow: 0px 1px 2px rgba(60, 64, 67, 0.3), 0px 1px 3px 1px rgba(60, 64, 67, 0.15);\n",
              "        fill: #174EA6;\n",
              "      }\n",
              "\n",
              "      [theme=dark] .colab-df-generate {\n",
              "        background-color: #3B4455;\n",
              "        fill: #D2E3FC;\n",
              "      }\n",
              "\n",
              "      [theme=dark] .colab-df-generate:hover {\n",
              "        background-color: #434B5C;\n",
              "        box-shadow: 0px 1px 3px 1px rgba(0, 0, 0, 0.15);\n",
              "        filter: drop-shadow(0px 1px 2px rgba(0, 0, 0, 0.3));\n",
              "        fill: #FFFFFF;\n",
              "      }\n",
              "    </style>\n",
              "    <button class=\"colab-df-generate\" onclick=\"generateWithVariable('df')\"\n",
              "            title=\"Generate code using this dataframe.\"\n",
              "            style=\"display:none;\">\n",
              "\n",
              "  <svg xmlns=\"http://www.w3.org/2000/svg\" height=\"24px\"viewBox=\"0 0 24 24\"\n",
              "       width=\"24px\">\n",
              "    <path d=\"M7,19H8.4L18.45,9,17,7.55,7,17.6ZM5,21V16.75L18.45,3.32a2,2,0,0,1,2.83,0l1.4,1.43a1.91,1.91,0,0,1,.58,1.4,1.91,1.91,0,0,1-.58,1.4L9.25,21ZM18.45,9,17,7.55Zm-12,3A5.31,5.31,0,0,0,4.9,8.1,5.31,5.31,0,0,0,1,6.5,5.31,5.31,0,0,0,4.9,4.9,5.31,5.31,0,0,0,6.5,1,5.31,5.31,0,0,0,8.1,4.9,5.31,5.31,0,0,0,12,6.5,5.46,5.46,0,0,0,6.5,12Z\"/>\n",
              "  </svg>\n",
              "    </button>\n",
              "    <script>\n",
              "      (() => {\n",
              "      const buttonEl =\n",
              "        document.querySelector('#id_cf7199c8-54c1-4469-bfdf-c0d16c2f5fdb button.colab-df-generate');\n",
              "      buttonEl.style.display =\n",
              "        google.colab.kernel.accessAllowed ? 'block' : 'none';\n",
              "\n",
              "      buttonEl.onclick = () => {\n",
              "        google.colab.notebook.generateWithVariable('df');\n",
              "      }\n",
              "      })();\n",
              "    </script>\n",
              "  </div>\n",
              "\n",
              "    </div>\n",
              "  </div>\n"
            ],
            "application/vnd.google.colaboratory.intrinsic+json": {
              "type": "dataframe",
              "variable_name": "df",
              "summary": "{\n  \"name\": \"df\",\n  \"rows\": 232,\n  \"fields\": [\n    {\n      \"column\": \"tag\",\n      \"properties\": {\n        \"dtype\": \"category\",\n        \"num_unique_values\": 80,\n        \"samples\": [\n          \"default\",\n          \"greeting\",\n          \"sleep\"\n        ],\n        \"semantic_type\": \"\",\n        \"description\": \"\"\n      }\n    },\n    {\n      \"column\": \"patterns\",\n      \"properties\": {\n        \"dtype\": \"string\",\n        \"num_unique_values\": 231,\n        \"samples\": [\n          \"Where can I learn about types of mental health treatment?\",\n          \"I feel so worthless.\",\n          \"Konnichiwa\"\n        ],\n        \"semantic_type\": \"\",\n        \"description\": \"\"\n      }\n    },\n    {\n      \"column\": \"responses\",\n      \"properties\": {\n        \"dtype\": \"object\",\n        \"semantic_type\": \"\",\n        \"description\": \"\"\n      }\n    }\n  ]\n}"
            }
          },
          "metadata": {},
          "execution_count": 7
        }
      ],
      "execution_count": 7
    },
    {
      "cell_type": "code",
      "source": [
        "df['tag'].unique()"
      ],
      "metadata": {
        "execution": {
          "iopub.status.busy": "2024-11-06T08:50:34.962109Z",
          "iopub.execute_input": "2024-11-06T08:50:34.962485Z",
          "iopub.status.idle": "2024-11-06T08:50:34.971574Z",
          "shell.execute_reply.started": "2024-11-06T08:50:34.962457Z",
          "shell.execute_reply": "2024-11-06T08:50:34.970546Z"
        },
        "trusted": true,
        "id": "YxFTj121q-hO",
        "outputId": "082ed2d5-4aa6-4a06-90b5-fdb1aa85f66b",
        "colab": {
          "base_uri": "https://localhost:8080/"
        }
      },
      "outputs": [
        {
          "output_type": "execute_result",
          "data": {
            "text/plain": [
              "array(['greeting', 'morning', 'afternoon', 'evening', 'night', 'goodbye',\n",
              "       'thanks', 'no-response', 'neutral-response', 'about', 'skill',\n",
              "       'creation', 'name', 'help', 'sad', 'stressed', 'worthless',\n",
              "       'depressed', 'happy', 'casual', 'anxious', 'not-talking', 'sleep',\n",
              "       'scared', 'death', 'understand', 'done', 'suicide', 'hate-you',\n",
              "       'hate-me', 'default', 'jokes', 'repeat', 'wrong', 'stupid',\n",
              "       'location', 'something-else', 'friends', 'ask', 'problem',\n",
              "       'no-approach', 'learn-more', 'user-agree', 'meditation',\n",
              "       'user-meditation', 'pandora-useful', 'user-advice',\n",
              "       'learn-mental-health', 'mental-health-fact', 'fact-1', 'fact-2',\n",
              "       'fact-3', 'fact-5', 'fact-6', 'fact-7', 'fact-8', 'fact-9',\n",
              "       'fact-10', 'fact-11', 'fact-12', 'fact-13', 'fact-14', 'fact-15',\n",
              "       'fact-16', 'fact-17', 'fact-18', 'fact-19', 'fact-20', 'fact-21',\n",
              "       'fact-22', 'fact-23', 'fact-24', 'fact-25', 'fact-26', 'fact-27',\n",
              "       'fact-28', 'fact-29', 'fact-30', 'fact-31', 'fact-32'],\n",
              "      dtype=object)"
            ]
          },
          "metadata": {},
          "execution_count": 8
        }
      ],
      "execution_count": 8
    },
    {
      "cell_type": "markdown",
      "source": [
        "# Exploratory Data Analysis\n",
        "\n",
        "* Analyze the distribution of intents in the dataset.\n",
        "* Visualize the frequency of different intents using a bar plot from the Plotly library. The x-axis can represent the intents, and the y-axis can represent the count of patterns or responses associated with each intent.\n",
        "\n"
      ],
      "metadata": {
        "id": "KtBupfhLq-hP"
      }
    },
    {
      "cell_type": "code",
      "source": [
        "import plotly.graph_objects as go\n",
        "\n",
        "intent_counts = df['tag'].value_counts()\n",
        "fig = go.Figure(data=[go.Bar(x=intent_counts.index, y=intent_counts.values)])\n",
        "fig.update_layout(title='Distribution of Intents', xaxis_title='Intents', yaxis_title='Count')\n",
        "fig.show()"
      ],
      "metadata": {
        "execution": {
          "iopub.status.busy": "2024-11-06T08:50:37.942713Z",
          "iopub.execute_input": "2024-11-06T08:50:37.943726Z",
          "iopub.status.idle": "2024-11-06T08:50:38.299846Z",
          "shell.execute_reply.started": "2024-11-06T08:50:37.943692Z",
          "shell.execute_reply": "2024-11-06T08:50:38.29883Z"
        },
        "trusted": true,
        "id": "PywDRU7zq-hP",
        "outputId": "7ceda2e6-87f6-4faa-dd3d-35656422498c",
        "colab": {
          "base_uri": "https://localhost:8080/",
          "height": 542
        }
      },
      "outputs": [
        {
          "output_type": "display_data",
          "data": {
            "text/html": [
              "<html>\n",
              "<head><meta charset=\"utf-8\" /></head>\n",
              "<body>\n",
              "    <div>            <script src=\"https://cdnjs.cloudflare.com/ajax/libs/mathjax/2.7.5/MathJax.js?config=TeX-AMS-MML_SVG\"></script><script type=\"text/javascript\">if (window.MathJax && window.MathJax.Hub && window.MathJax.Hub.Config) {window.MathJax.Hub.Config({SVG: {font: \"STIX-Web\"}});}</script>                <script type=\"text/javascript\">window.PlotlyConfig = {MathJaxConfig: 'local'};</script>\n",
              "        <script charset=\"utf-8\" src=\"https://cdn.plot.ly/plotly-2.35.2.min.js\"></script>                <div id=\"0452a938-f629-4cd8-b918-d9901a12712c\" class=\"plotly-graph-div\" style=\"height:525px; width:100%;\"></div>            <script type=\"text/javascript\">                                    window.PLOTLYENV=window.PLOTLYENV || {};                                    if (document.getElementById(\"0452a938-f629-4cd8-b918-d9901a12712c\")) {                    Plotly.newPlot(                        \"0452a938-f629-4cd8-b918-d9901a12712c\",                        [{\"x\":[\"greeting\",\"casual\",\"goodbye\",\"default\",\"about\",\"sad\",\"help\",\"happy\",\"understand\",\"death\",\"sleep\",\"thanks\",\"suicide\",\"done\",\"stressed\",\"worthless\",\"wrong\",\"scared\",\"not-talking\",\"depressed\",\"fact-5\",\"stupid\",\"something-else\",\"fact-7\",\"user-advice\",\"location\",\"learn-mental-health\",\"learn-more\",\"repeat\",\"no-approach\",\"hate-me\",\"hate-you\",\"name\",\"creation\",\"meditation\",\"fact-26\",\"jokes\",\"fact-6\",\"fact-3\",\"fact-2\",\"fact-1\",\"mental-health-fact\",\"user-meditation\",\"fact-32\",\"user-agree\",\"problem\",\"anxious\",\"fact-24\",\"fact-18\",\"fact-19\",\"fact-20\",\"fact-21\",\"fact-22\",\"fact-23\",\"fact-25\",\"fact-16\",\"fact-27\",\"fact-28\",\"fact-29\",\"fact-30\",\"fact-31\",\"fact-17\",\"fact-15\",\"pandora-useful\",\"friends\",\"no-response\",\"night\",\"neutral-response\",\"morning\",\"ask\",\"evening\",\"afternoon\",\"fact-14\",\"skill\",\"fact-9\",\"fact-10\",\"fact-11\",\"fact-12\",\"fact-13\",\"fact-8\"],\"y\":[12,11,8,8,8,8,7,7,6,6,6,5,5,5,5,5,4,4,4,4,4,4,4,3,3,3,3,3,3,3,3,3,3,3,2,2,2,2,2,2,2,2,2,2,2,2,2,1,1,1,1,1,1,1,1,1,1,1,1,1,1,1,1,1,1,1,1,1,1,1,1,1,1,1,1,1,1,1,1,1],\"type\":\"bar\"}],                        {\"template\":{\"data\":{\"histogram2dcontour\":[{\"type\":\"histogram2dcontour\",\"colorbar\":{\"outlinewidth\":0,\"ticks\":\"\"},\"colorscale\":[[0.0,\"#0d0887\"],[0.1111111111111111,\"#46039f\"],[0.2222222222222222,\"#7201a8\"],[0.3333333333333333,\"#9c179e\"],[0.4444444444444444,\"#bd3786\"],[0.5555555555555556,\"#d8576b\"],[0.6666666666666666,\"#ed7953\"],[0.7777777777777778,\"#fb9f3a\"],[0.8888888888888888,\"#fdca26\"],[1.0,\"#f0f921\"]]}],\"choropleth\":[{\"type\":\"choropleth\",\"colorbar\":{\"outlinewidth\":0,\"ticks\":\"\"}}],\"histogram2d\":[{\"type\":\"histogram2d\",\"colorbar\":{\"outlinewidth\":0,\"ticks\":\"\"},\"colorscale\":[[0.0,\"#0d0887\"],[0.1111111111111111,\"#46039f\"],[0.2222222222222222,\"#7201a8\"],[0.3333333333333333,\"#9c179e\"],[0.4444444444444444,\"#bd3786\"],[0.5555555555555556,\"#d8576b\"],[0.6666666666666666,\"#ed7953\"],[0.7777777777777778,\"#fb9f3a\"],[0.8888888888888888,\"#fdca26\"],[1.0,\"#f0f921\"]]}],\"heatmap\":[{\"type\":\"heatmap\",\"colorbar\":{\"outlinewidth\":0,\"ticks\":\"\"},\"colorscale\":[[0.0,\"#0d0887\"],[0.1111111111111111,\"#46039f\"],[0.2222222222222222,\"#7201a8\"],[0.3333333333333333,\"#9c179e\"],[0.4444444444444444,\"#bd3786\"],[0.5555555555555556,\"#d8576b\"],[0.6666666666666666,\"#ed7953\"],[0.7777777777777778,\"#fb9f3a\"],[0.8888888888888888,\"#fdca26\"],[1.0,\"#f0f921\"]]}],\"heatmapgl\":[{\"type\":\"heatmapgl\",\"colorbar\":{\"outlinewidth\":0,\"ticks\":\"\"},\"colorscale\":[[0.0,\"#0d0887\"],[0.1111111111111111,\"#46039f\"],[0.2222222222222222,\"#7201a8\"],[0.3333333333333333,\"#9c179e\"],[0.4444444444444444,\"#bd3786\"],[0.5555555555555556,\"#d8576b\"],[0.6666666666666666,\"#ed7953\"],[0.7777777777777778,\"#fb9f3a\"],[0.8888888888888888,\"#fdca26\"],[1.0,\"#f0f921\"]]}],\"contourcarpet\":[{\"type\":\"contourcarpet\",\"colorbar\":{\"outlinewidth\":0,\"ticks\":\"\"}}],\"contour\":[{\"type\":\"contour\",\"colorbar\":{\"outlinewidth\":0,\"ticks\":\"\"},\"colorscale\":[[0.0,\"#0d0887\"],[0.1111111111111111,\"#46039f\"],[0.2222222222222222,\"#7201a8\"],[0.3333333333333333,\"#9c179e\"],[0.4444444444444444,\"#bd3786\"],[0.5555555555555556,\"#d8576b\"],[0.6666666666666666,\"#ed7953\"],[0.7777777777777778,\"#fb9f3a\"],[0.8888888888888888,\"#fdca26\"],[1.0,\"#f0f921\"]]}],\"surface\":[{\"type\":\"surface\",\"colorbar\":{\"outlinewidth\":0,\"ticks\":\"\"},\"colorscale\":[[0.0,\"#0d0887\"],[0.1111111111111111,\"#46039f\"],[0.2222222222222222,\"#7201a8\"],[0.3333333333333333,\"#9c179e\"],[0.4444444444444444,\"#bd3786\"],[0.5555555555555556,\"#d8576b\"],[0.6666666666666666,\"#ed7953\"],[0.7777777777777778,\"#fb9f3a\"],[0.8888888888888888,\"#fdca26\"],[1.0,\"#f0f921\"]]}],\"mesh3d\":[{\"type\":\"mesh3d\",\"colorbar\":{\"outlinewidth\":0,\"ticks\":\"\"}}],\"scatter\":[{\"fillpattern\":{\"fillmode\":\"overlay\",\"size\":10,\"solidity\":0.2},\"type\":\"scatter\"}],\"parcoords\":[{\"type\":\"parcoords\",\"line\":{\"colorbar\":{\"outlinewidth\":0,\"ticks\":\"\"}}}],\"scatterpolargl\":[{\"type\":\"scatterpolargl\",\"marker\":{\"colorbar\":{\"outlinewidth\":0,\"ticks\":\"\"}}}],\"bar\":[{\"error_x\":{\"color\":\"#2a3f5f\"},\"error_y\":{\"color\":\"#2a3f5f\"},\"marker\":{\"line\":{\"color\":\"#E5ECF6\",\"width\":0.5},\"pattern\":{\"fillmode\":\"overlay\",\"size\":10,\"solidity\":0.2}},\"type\":\"bar\"}],\"scattergeo\":[{\"type\":\"scattergeo\",\"marker\":{\"colorbar\":{\"outlinewidth\":0,\"ticks\":\"\"}}}],\"scatterpolar\":[{\"type\":\"scatterpolar\",\"marker\":{\"colorbar\":{\"outlinewidth\":0,\"ticks\":\"\"}}}],\"histogram\":[{\"marker\":{\"pattern\":{\"fillmode\":\"overlay\",\"size\":10,\"solidity\":0.2}},\"type\":\"histogram\"}],\"scattergl\":[{\"type\":\"scattergl\",\"marker\":{\"colorbar\":{\"outlinewidth\":0,\"ticks\":\"\"}}}],\"scatter3d\":[{\"type\":\"scatter3d\",\"line\":{\"colorbar\":{\"outlinewidth\":0,\"ticks\":\"\"}},\"marker\":{\"colorbar\":{\"outlinewidth\":0,\"ticks\":\"\"}}}],\"scattermapbox\":[{\"type\":\"scattermapbox\",\"marker\":{\"colorbar\":{\"outlinewidth\":0,\"ticks\":\"\"}}}],\"scatterternary\":[{\"type\":\"scatterternary\",\"marker\":{\"colorbar\":{\"outlinewidth\":0,\"ticks\":\"\"}}}],\"scattercarpet\":[{\"type\":\"scattercarpet\",\"marker\":{\"colorbar\":{\"outlinewidth\":0,\"ticks\":\"\"}}}],\"carpet\":[{\"aaxis\":{\"endlinecolor\":\"#2a3f5f\",\"gridcolor\":\"white\",\"linecolor\":\"white\",\"minorgridcolor\":\"white\",\"startlinecolor\":\"#2a3f5f\"},\"baxis\":{\"endlinecolor\":\"#2a3f5f\",\"gridcolor\":\"white\",\"linecolor\":\"white\",\"minorgridcolor\":\"white\",\"startlinecolor\":\"#2a3f5f\"},\"type\":\"carpet\"}],\"table\":[{\"cells\":{\"fill\":{\"color\":\"#EBF0F8\"},\"line\":{\"color\":\"white\"}},\"header\":{\"fill\":{\"color\":\"#C8D4E3\"},\"line\":{\"color\":\"white\"}},\"type\":\"table\"}],\"barpolar\":[{\"marker\":{\"line\":{\"color\":\"#E5ECF6\",\"width\":0.5},\"pattern\":{\"fillmode\":\"overlay\",\"size\":10,\"solidity\":0.2}},\"type\":\"barpolar\"}],\"pie\":[{\"automargin\":true,\"type\":\"pie\"}]},\"layout\":{\"autotypenumbers\":\"strict\",\"colorway\":[\"#636efa\",\"#EF553B\",\"#00cc96\",\"#ab63fa\",\"#FFA15A\",\"#19d3f3\",\"#FF6692\",\"#B6E880\",\"#FF97FF\",\"#FECB52\"],\"font\":{\"color\":\"#2a3f5f\"},\"hovermode\":\"closest\",\"hoverlabel\":{\"align\":\"left\"},\"paper_bgcolor\":\"white\",\"plot_bgcolor\":\"#E5ECF6\",\"polar\":{\"bgcolor\":\"#E5ECF6\",\"angularaxis\":{\"gridcolor\":\"white\",\"linecolor\":\"white\",\"ticks\":\"\"},\"radialaxis\":{\"gridcolor\":\"white\",\"linecolor\":\"white\",\"ticks\":\"\"}},\"ternary\":{\"bgcolor\":\"#E5ECF6\",\"aaxis\":{\"gridcolor\":\"white\",\"linecolor\":\"white\",\"ticks\":\"\"},\"baxis\":{\"gridcolor\":\"white\",\"linecolor\":\"white\",\"ticks\":\"\"},\"caxis\":{\"gridcolor\":\"white\",\"linecolor\":\"white\",\"ticks\":\"\"}},\"coloraxis\":{\"colorbar\":{\"outlinewidth\":0,\"ticks\":\"\"}},\"colorscale\":{\"sequential\":[[0.0,\"#0d0887\"],[0.1111111111111111,\"#46039f\"],[0.2222222222222222,\"#7201a8\"],[0.3333333333333333,\"#9c179e\"],[0.4444444444444444,\"#bd3786\"],[0.5555555555555556,\"#d8576b\"],[0.6666666666666666,\"#ed7953\"],[0.7777777777777778,\"#fb9f3a\"],[0.8888888888888888,\"#fdca26\"],[1.0,\"#f0f921\"]],\"sequentialminus\":[[0.0,\"#0d0887\"],[0.1111111111111111,\"#46039f\"],[0.2222222222222222,\"#7201a8\"],[0.3333333333333333,\"#9c179e\"],[0.4444444444444444,\"#bd3786\"],[0.5555555555555556,\"#d8576b\"],[0.6666666666666666,\"#ed7953\"],[0.7777777777777778,\"#fb9f3a\"],[0.8888888888888888,\"#fdca26\"],[1.0,\"#f0f921\"]],\"diverging\":[[0,\"#8e0152\"],[0.1,\"#c51b7d\"],[0.2,\"#de77ae\"],[0.3,\"#f1b6da\"],[0.4,\"#fde0ef\"],[0.5,\"#f7f7f7\"],[0.6,\"#e6f5d0\"],[0.7,\"#b8e186\"],[0.8,\"#7fbc41\"],[0.9,\"#4d9221\"],[1,\"#276419\"]]},\"xaxis\":{\"gridcolor\":\"white\",\"linecolor\":\"white\",\"ticks\":\"\",\"title\":{\"standoff\":15},\"zerolinecolor\":\"white\",\"automargin\":true,\"zerolinewidth\":2},\"yaxis\":{\"gridcolor\":\"white\",\"linecolor\":\"white\",\"ticks\":\"\",\"title\":{\"standoff\":15},\"zerolinecolor\":\"white\",\"automargin\":true,\"zerolinewidth\":2},\"scene\":{\"xaxis\":{\"backgroundcolor\":\"#E5ECF6\",\"gridcolor\":\"white\",\"linecolor\":\"white\",\"showbackground\":true,\"ticks\":\"\",\"zerolinecolor\":\"white\",\"gridwidth\":2},\"yaxis\":{\"backgroundcolor\":\"#E5ECF6\",\"gridcolor\":\"white\",\"linecolor\":\"white\",\"showbackground\":true,\"ticks\":\"\",\"zerolinecolor\":\"white\",\"gridwidth\":2},\"zaxis\":{\"backgroundcolor\":\"#E5ECF6\",\"gridcolor\":\"white\",\"linecolor\":\"white\",\"showbackground\":true,\"ticks\":\"\",\"zerolinecolor\":\"white\",\"gridwidth\":2}},\"shapedefaults\":{\"line\":{\"color\":\"#2a3f5f\"}},\"annotationdefaults\":{\"arrowcolor\":\"#2a3f5f\",\"arrowhead\":0,\"arrowwidth\":1},\"geo\":{\"bgcolor\":\"white\",\"landcolor\":\"#E5ECF6\",\"subunitcolor\":\"white\",\"showland\":true,\"showlakes\":true,\"lakecolor\":\"white\"},\"title\":{\"x\":0.05},\"mapbox\":{\"style\":\"light\"}}},\"title\":{\"text\":\"Distribution of Intents\"},\"xaxis\":{\"title\":{\"text\":\"Intents\"}},\"yaxis\":{\"title\":{\"text\":\"Count\"}}},                        {\"responsive\": true}                    ).then(function(){\n",
              "                            \n",
              "var gd = document.getElementById('0452a938-f629-4cd8-b918-d9901a12712c');\n",
              "var x = new MutationObserver(function (mutations, observer) {{\n",
              "        var display = window.getComputedStyle(gd).display;\n",
              "        if (!display || display === 'none') {{\n",
              "            console.log([gd, 'removed!']);\n",
              "            Plotly.purge(gd);\n",
              "            observer.disconnect();\n",
              "        }}\n",
              "}});\n",
              "\n",
              "// Listen for the removal of the full notebook cells\n",
              "var notebookContainer = gd.closest('#notebook-container');\n",
              "if (notebookContainer) {{\n",
              "    x.observe(notebookContainer, {childList: true});\n",
              "}}\n",
              "\n",
              "// Listen for the clearing of the current output cell\n",
              "var outputEl = gd.closest('.output');\n",
              "if (outputEl) {{\n",
              "    x.observe(outputEl, {childList: true});\n",
              "}}\n",
              "\n",
              "                        })                };                            </script>        </div>\n",
              "</body>\n",
              "</html>"
            ]
          },
          "metadata": {}
        }
      ],
      "execution_count": 9
    },
    {
      "cell_type": "markdown",
      "source": [
        "# Pattern and Response Analysis\n",
        "\n",
        "* Explore the patterns and responses associated with each intent.\n",
        "* Calculate the average number of patterns and responses per intent.\n",
        "* Visualize this information using a Plotly bar plot, where the x-axis represents the intents, and the y-axis represents the average count of patterns or responses.\n",
        "* Interpret the plot to understand the varying degrees of complexity and diversity in patterns and responses across different intents."
      ],
      "metadata": {
        "id": "MeT3Y-IGq-hP"
      }
    },
    {
      "cell_type": "code",
      "source": [
        "df['pattern_count'] = df['patterns'].apply(lambda x: len(x))\n",
        "df['response_count'] = df['responses'].apply(lambda x: len(x))\n",
        "avg_pattern_count = df.groupby('tag')['pattern_count'].mean()\n",
        "avg_response_count = df.groupby('tag')['response_count'].mean()\n",
        "\n",
        "fig = go.Figure()\n",
        "fig.add_trace(go.Bar(x=avg_pattern_count.index, y=avg_pattern_count.values, name='Average Pattern Count'))\n",
        "fig.add_trace(go.Bar(x=avg_response_count.index, y=avg_response_count.values, name='Average Response Count'))\n",
        "fig.update_layout(title='Pattern and Response Analysis', xaxis_title='Intents', yaxis_title='Average Count')\n",
        "fig.show()"
      ],
      "metadata": {
        "execution": {
          "iopub.status.busy": "2024-11-06T08:50:49.148285Z",
          "iopub.execute_input": "2024-11-06T08:50:49.148693Z",
          "iopub.status.idle": "2024-11-06T08:50:49.180814Z",
          "shell.execute_reply.started": "2024-11-06T08:50:49.148663Z",
          "shell.execute_reply": "2024-11-06T08:50:49.179668Z"
        },
        "trusted": true,
        "id": "KtiwUvF1q-hQ",
        "outputId": "624a1d34-9c32-4575-aeb4-f644859385dc",
        "colab": {
          "base_uri": "https://localhost:8080/",
          "height": 542
        }
      },
      "outputs": [
        {
          "output_type": "display_data",
          "data": {
            "text/html": [
              "<html>\n",
              "<head><meta charset=\"utf-8\" /></head>\n",
              "<body>\n",
              "    <div>            <script src=\"https://cdnjs.cloudflare.com/ajax/libs/mathjax/2.7.5/MathJax.js?config=TeX-AMS-MML_SVG\"></script><script type=\"text/javascript\">if (window.MathJax && window.MathJax.Hub && window.MathJax.Hub.Config) {window.MathJax.Hub.Config({SVG: {font: \"STIX-Web\"}});}</script>                <script type=\"text/javascript\">window.PlotlyConfig = {MathJaxConfig: 'local'};</script>\n",
              "        <script charset=\"utf-8\" src=\"https://cdn.plot.ly/plotly-2.35.2.min.js\"></script>                <div id=\"71a14f4e-f34c-4ab1-8028-652b296778a3\" class=\"plotly-graph-div\" style=\"height:525px; width:100%;\"></div>            <script type=\"text/javascript\">                                    window.PLOTLYENV=window.PLOTLYENV || {};                                    if (document.getElementById(\"71a14f4e-f34c-4ab1-8028-652b296778a3\")) {                    Plotly.newPlot(                        \"71a14f4e-f34c-4ab1-8028-652b296778a3\",                        [{\"name\":\"Average Pattern Count\",\"x\":[\"about\",\"afternoon\",\"anxious\",\"ask\",\"casual\",\"creation\",\"death\",\"default\",\"depressed\",\"done\",\"evening\",\"fact-1\",\"fact-10\",\"fact-11\",\"fact-12\",\"fact-13\",\"fact-14\",\"fact-15\",\"fact-16\",\"fact-17\",\"fact-18\",\"fact-19\",\"fact-2\",\"fact-20\",\"fact-21\",\"fact-22\",\"fact-23\",\"fact-24\",\"fact-25\",\"fact-26\",\"fact-27\",\"fact-28\",\"fact-29\",\"fact-3\",\"fact-30\",\"fact-31\",\"fact-32\",\"fact-5\",\"fact-6\",\"fact-7\",\"fact-8\",\"fact-9\",\"friends\",\"goodbye\",\"greeting\",\"happy\",\"hate-me\",\"hate-you\",\"help\",\"jokes\",\"learn-mental-health\",\"learn-more\",\"location\",\"meditation\",\"mental-health-fact\",\"morning\",\"name\",\"neutral-response\",\"night\",\"no-approach\",\"no-response\",\"not-talking\",\"pandora-useful\",\"problem\",\"repeat\",\"sad\",\"scared\",\"skill\",\"sleep\",\"something-else\",\"stressed\",\"stupid\",\"suicide\",\"thanks\",\"understand\",\"user-advice\",\"user-agree\",\"user-meditation\",\"worthless\",\"wrong\"],\"y\":[18.125,14.0,22.0,24.0,4.636363636363637,18.333333333333332,18.5,9.0,19.75,20.2,12.0,21.0,27.0,53.0,39.0,89.0,67.0,37.0,58.0,59.0,73.0,26.0,35.5,52.0,31.0,57.0,60.0,39.0,39.0,44.0,35.0,51.0,28.0,18.0,61.0,49.0,47.0,24.75,22.5,17.666666666666668,43.0,31.0,24.0,8.5,6.75,11.0,15.333333333333334,14.333333333333334,16.714285714285715,17.0,41.333333333333336,40.666666666666664,18.0,33.0,37.0,12.0,9.666666666666666,12.0,10.0,23.0,0.0,23.0,95.0,69.5,27.0,13.625,24.0,16.0,28.166666666666668,31.5,17.4,13.0,24.2,13.2,27.666666666666668,21.333333333333332,38.0,40.5,19.6,17.25],\"type\":\"bar\"},{\"name\":\"Average Response Count\",\"x\":[\"about\",\"afternoon\",\"anxious\",\"ask\",\"casual\",\"creation\",\"death\",\"default\",\"depressed\",\"done\",\"evening\",\"fact-1\",\"fact-10\",\"fact-11\",\"fact-12\",\"fact-13\",\"fact-14\",\"fact-15\",\"fact-16\",\"fact-17\",\"fact-18\",\"fact-19\",\"fact-2\",\"fact-20\",\"fact-21\",\"fact-22\",\"fact-23\",\"fact-24\",\"fact-25\",\"fact-26\",\"fact-27\",\"fact-28\",\"fact-29\",\"fact-3\",\"fact-30\",\"fact-31\",\"fact-32\",\"fact-5\",\"fact-6\",\"fact-7\",\"fact-8\",\"fact-9\",\"friends\",\"goodbye\",\"greeting\",\"happy\",\"hate-me\",\"hate-you\",\"help\",\"jokes\",\"learn-mental-health\",\"learn-more\",\"location\",\"meditation\",\"mental-health-fact\",\"morning\",\"name\",\"neutral-response\",\"night\",\"no-approach\",\"no-response\",\"not-talking\",\"pandora-useful\",\"problem\",\"repeat\",\"sad\",\"scared\",\"skill\",\"sleep\",\"something-else\",\"stressed\",\"stupid\",\"suicide\",\"thanks\",\"understand\",\"user-advice\",\"user-agree\",\"user-meditation\",\"worthless\",\"wrong\"],\"y\":[6.0,1.0,4.0,2.0,6.0,3.0,3.0,5.0,3.0,5.0,1.0,2.0,1.0,1.0,1.0,1.0,1.0,1.0,1.0,1.0,1.0,1.0,1.0,1.0,1.0,1.0,1.0,1.0,1.0,1.0,1.0,1.0,1.0,1.0,1.0,1.0,1.0,1.0,1.0,2.0,1.0,1.0,1.0,4.0,5.0,3.0,2.0,2.0,3.0,1.0,1.0,1.0,3.0,1.0,3.0,1.0,3.0,1.0,2.0,1.0,4.0,4.0,1.0,1.0,1.0,4.0,3.0,1.0,2.0,3.0,4.0,1.0,1.0,4.0,3.0,2.0,1.0,1.0,4.0,1.0],\"type\":\"bar\"}],                        {\"template\":{\"data\":{\"histogram2dcontour\":[{\"type\":\"histogram2dcontour\",\"colorbar\":{\"outlinewidth\":0,\"ticks\":\"\"},\"colorscale\":[[0.0,\"#0d0887\"],[0.1111111111111111,\"#46039f\"],[0.2222222222222222,\"#7201a8\"],[0.3333333333333333,\"#9c179e\"],[0.4444444444444444,\"#bd3786\"],[0.5555555555555556,\"#d8576b\"],[0.6666666666666666,\"#ed7953\"],[0.7777777777777778,\"#fb9f3a\"],[0.8888888888888888,\"#fdca26\"],[1.0,\"#f0f921\"]]}],\"choropleth\":[{\"type\":\"choropleth\",\"colorbar\":{\"outlinewidth\":0,\"ticks\":\"\"}}],\"histogram2d\":[{\"type\":\"histogram2d\",\"colorbar\":{\"outlinewidth\":0,\"ticks\":\"\"},\"colorscale\":[[0.0,\"#0d0887\"],[0.1111111111111111,\"#46039f\"],[0.2222222222222222,\"#7201a8\"],[0.3333333333333333,\"#9c179e\"],[0.4444444444444444,\"#bd3786\"],[0.5555555555555556,\"#d8576b\"],[0.6666666666666666,\"#ed7953\"],[0.7777777777777778,\"#fb9f3a\"],[0.8888888888888888,\"#fdca26\"],[1.0,\"#f0f921\"]]}],\"heatmap\":[{\"type\":\"heatmap\",\"colorbar\":{\"outlinewidth\":0,\"ticks\":\"\"},\"colorscale\":[[0.0,\"#0d0887\"],[0.1111111111111111,\"#46039f\"],[0.2222222222222222,\"#7201a8\"],[0.3333333333333333,\"#9c179e\"],[0.4444444444444444,\"#bd3786\"],[0.5555555555555556,\"#d8576b\"],[0.6666666666666666,\"#ed7953\"],[0.7777777777777778,\"#fb9f3a\"],[0.8888888888888888,\"#fdca26\"],[1.0,\"#f0f921\"]]}],\"heatmapgl\":[{\"type\":\"heatmapgl\",\"colorbar\":{\"outlinewidth\":0,\"ticks\":\"\"},\"colorscale\":[[0.0,\"#0d0887\"],[0.1111111111111111,\"#46039f\"],[0.2222222222222222,\"#7201a8\"],[0.3333333333333333,\"#9c179e\"],[0.4444444444444444,\"#bd3786\"],[0.5555555555555556,\"#d8576b\"],[0.6666666666666666,\"#ed7953\"],[0.7777777777777778,\"#fb9f3a\"],[0.8888888888888888,\"#fdca26\"],[1.0,\"#f0f921\"]]}],\"contourcarpet\":[{\"type\":\"contourcarpet\",\"colorbar\":{\"outlinewidth\":0,\"ticks\":\"\"}}],\"contour\":[{\"type\":\"contour\",\"colorbar\":{\"outlinewidth\":0,\"ticks\":\"\"},\"colorscale\":[[0.0,\"#0d0887\"],[0.1111111111111111,\"#46039f\"],[0.2222222222222222,\"#7201a8\"],[0.3333333333333333,\"#9c179e\"],[0.4444444444444444,\"#bd3786\"],[0.5555555555555556,\"#d8576b\"],[0.6666666666666666,\"#ed7953\"],[0.7777777777777778,\"#fb9f3a\"],[0.8888888888888888,\"#fdca26\"],[1.0,\"#f0f921\"]]}],\"surface\":[{\"type\":\"surface\",\"colorbar\":{\"outlinewidth\":0,\"ticks\":\"\"},\"colorscale\":[[0.0,\"#0d0887\"],[0.1111111111111111,\"#46039f\"],[0.2222222222222222,\"#7201a8\"],[0.3333333333333333,\"#9c179e\"],[0.4444444444444444,\"#bd3786\"],[0.5555555555555556,\"#d8576b\"],[0.6666666666666666,\"#ed7953\"],[0.7777777777777778,\"#fb9f3a\"],[0.8888888888888888,\"#fdca26\"],[1.0,\"#f0f921\"]]}],\"mesh3d\":[{\"type\":\"mesh3d\",\"colorbar\":{\"outlinewidth\":0,\"ticks\":\"\"}}],\"scatter\":[{\"fillpattern\":{\"fillmode\":\"overlay\",\"size\":10,\"solidity\":0.2},\"type\":\"scatter\"}],\"parcoords\":[{\"type\":\"parcoords\",\"line\":{\"colorbar\":{\"outlinewidth\":0,\"ticks\":\"\"}}}],\"scatterpolargl\":[{\"type\":\"scatterpolargl\",\"marker\":{\"colorbar\":{\"outlinewidth\":0,\"ticks\":\"\"}}}],\"bar\":[{\"error_x\":{\"color\":\"#2a3f5f\"},\"error_y\":{\"color\":\"#2a3f5f\"},\"marker\":{\"line\":{\"color\":\"#E5ECF6\",\"width\":0.5},\"pattern\":{\"fillmode\":\"overlay\",\"size\":10,\"solidity\":0.2}},\"type\":\"bar\"}],\"scattergeo\":[{\"type\":\"scattergeo\",\"marker\":{\"colorbar\":{\"outlinewidth\":0,\"ticks\":\"\"}}}],\"scatterpolar\":[{\"type\":\"scatterpolar\",\"marker\":{\"colorbar\":{\"outlinewidth\":0,\"ticks\":\"\"}}}],\"histogram\":[{\"marker\":{\"pattern\":{\"fillmode\":\"overlay\",\"size\":10,\"solidity\":0.2}},\"type\":\"histogram\"}],\"scattergl\":[{\"type\":\"scattergl\",\"marker\":{\"colorbar\":{\"outlinewidth\":0,\"ticks\":\"\"}}}],\"scatter3d\":[{\"type\":\"scatter3d\",\"line\":{\"colorbar\":{\"outlinewidth\":0,\"ticks\":\"\"}},\"marker\":{\"colorbar\":{\"outlinewidth\":0,\"ticks\":\"\"}}}],\"scattermapbox\":[{\"type\":\"scattermapbox\",\"marker\":{\"colorbar\":{\"outlinewidth\":0,\"ticks\":\"\"}}}],\"scatterternary\":[{\"type\":\"scatterternary\",\"marker\":{\"colorbar\":{\"outlinewidth\":0,\"ticks\":\"\"}}}],\"scattercarpet\":[{\"type\":\"scattercarpet\",\"marker\":{\"colorbar\":{\"outlinewidth\":0,\"ticks\":\"\"}}}],\"carpet\":[{\"aaxis\":{\"endlinecolor\":\"#2a3f5f\",\"gridcolor\":\"white\",\"linecolor\":\"white\",\"minorgridcolor\":\"white\",\"startlinecolor\":\"#2a3f5f\"},\"baxis\":{\"endlinecolor\":\"#2a3f5f\",\"gridcolor\":\"white\",\"linecolor\":\"white\",\"minorgridcolor\":\"white\",\"startlinecolor\":\"#2a3f5f\"},\"type\":\"carpet\"}],\"table\":[{\"cells\":{\"fill\":{\"color\":\"#EBF0F8\"},\"line\":{\"color\":\"white\"}},\"header\":{\"fill\":{\"color\":\"#C8D4E3\"},\"line\":{\"color\":\"white\"}},\"type\":\"table\"}],\"barpolar\":[{\"marker\":{\"line\":{\"color\":\"#E5ECF6\",\"width\":0.5},\"pattern\":{\"fillmode\":\"overlay\",\"size\":10,\"solidity\":0.2}},\"type\":\"barpolar\"}],\"pie\":[{\"automargin\":true,\"type\":\"pie\"}]},\"layout\":{\"autotypenumbers\":\"strict\",\"colorway\":[\"#636efa\",\"#EF553B\",\"#00cc96\",\"#ab63fa\",\"#FFA15A\",\"#19d3f3\",\"#FF6692\",\"#B6E880\",\"#FF97FF\",\"#FECB52\"],\"font\":{\"color\":\"#2a3f5f\"},\"hovermode\":\"closest\",\"hoverlabel\":{\"align\":\"left\"},\"paper_bgcolor\":\"white\",\"plot_bgcolor\":\"#E5ECF6\",\"polar\":{\"bgcolor\":\"#E5ECF6\",\"angularaxis\":{\"gridcolor\":\"white\",\"linecolor\":\"white\",\"ticks\":\"\"},\"radialaxis\":{\"gridcolor\":\"white\",\"linecolor\":\"white\",\"ticks\":\"\"}},\"ternary\":{\"bgcolor\":\"#E5ECF6\",\"aaxis\":{\"gridcolor\":\"white\",\"linecolor\":\"white\",\"ticks\":\"\"},\"baxis\":{\"gridcolor\":\"white\",\"linecolor\":\"white\",\"ticks\":\"\"},\"caxis\":{\"gridcolor\":\"white\",\"linecolor\":\"white\",\"ticks\":\"\"}},\"coloraxis\":{\"colorbar\":{\"outlinewidth\":0,\"ticks\":\"\"}},\"colorscale\":{\"sequential\":[[0.0,\"#0d0887\"],[0.1111111111111111,\"#46039f\"],[0.2222222222222222,\"#7201a8\"],[0.3333333333333333,\"#9c179e\"],[0.4444444444444444,\"#bd3786\"],[0.5555555555555556,\"#d8576b\"],[0.6666666666666666,\"#ed7953\"],[0.7777777777777778,\"#fb9f3a\"],[0.8888888888888888,\"#fdca26\"],[1.0,\"#f0f921\"]],\"sequentialminus\":[[0.0,\"#0d0887\"],[0.1111111111111111,\"#46039f\"],[0.2222222222222222,\"#7201a8\"],[0.3333333333333333,\"#9c179e\"],[0.4444444444444444,\"#bd3786\"],[0.5555555555555556,\"#d8576b\"],[0.6666666666666666,\"#ed7953\"],[0.7777777777777778,\"#fb9f3a\"],[0.8888888888888888,\"#fdca26\"],[1.0,\"#f0f921\"]],\"diverging\":[[0,\"#8e0152\"],[0.1,\"#c51b7d\"],[0.2,\"#de77ae\"],[0.3,\"#f1b6da\"],[0.4,\"#fde0ef\"],[0.5,\"#f7f7f7\"],[0.6,\"#e6f5d0\"],[0.7,\"#b8e186\"],[0.8,\"#7fbc41\"],[0.9,\"#4d9221\"],[1,\"#276419\"]]},\"xaxis\":{\"gridcolor\":\"white\",\"linecolor\":\"white\",\"ticks\":\"\",\"title\":{\"standoff\":15},\"zerolinecolor\":\"white\",\"automargin\":true,\"zerolinewidth\":2},\"yaxis\":{\"gridcolor\":\"white\",\"linecolor\":\"white\",\"ticks\":\"\",\"title\":{\"standoff\":15},\"zerolinecolor\":\"white\",\"automargin\":true,\"zerolinewidth\":2},\"scene\":{\"xaxis\":{\"backgroundcolor\":\"#E5ECF6\",\"gridcolor\":\"white\",\"linecolor\":\"white\",\"showbackground\":true,\"ticks\":\"\",\"zerolinecolor\":\"white\",\"gridwidth\":2},\"yaxis\":{\"backgroundcolor\":\"#E5ECF6\",\"gridcolor\":\"white\",\"linecolor\":\"white\",\"showbackground\":true,\"ticks\":\"\",\"zerolinecolor\":\"white\",\"gridwidth\":2},\"zaxis\":{\"backgroundcolor\":\"#E5ECF6\",\"gridcolor\":\"white\",\"linecolor\":\"white\",\"showbackground\":true,\"ticks\":\"\",\"zerolinecolor\":\"white\",\"gridwidth\":2}},\"shapedefaults\":{\"line\":{\"color\":\"#2a3f5f\"}},\"annotationdefaults\":{\"arrowcolor\":\"#2a3f5f\",\"arrowhead\":0,\"arrowwidth\":1},\"geo\":{\"bgcolor\":\"white\",\"landcolor\":\"#E5ECF6\",\"subunitcolor\":\"white\",\"showland\":true,\"showlakes\":true,\"lakecolor\":\"white\"},\"title\":{\"x\":0.05},\"mapbox\":{\"style\":\"light\"}}},\"title\":{\"text\":\"Pattern and Response Analysis\"},\"xaxis\":{\"title\":{\"text\":\"Intents\"}},\"yaxis\":{\"title\":{\"text\":\"Average Count\"}}},                        {\"responsive\": true}                    ).then(function(){\n",
              "                            \n",
              "var gd = document.getElementById('71a14f4e-f34c-4ab1-8028-652b296778a3');\n",
              "var x = new MutationObserver(function (mutations, observer) {{\n",
              "        var display = window.getComputedStyle(gd).display;\n",
              "        if (!display || display === 'none') {{\n",
              "            console.log([gd, 'removed!']);\n",
              "            Plotly.purge(gd);\n",
              "            observer.disconnect();\n",
              "        }}\n",
              "}});\n",
              "\n",
              "// Listen for the removal of the full notebook cells\n",
              "var notebookContainer = gd.closest('#notebook-container');\n",
              "if (notebookContainer) {{\n",
              "    x.observe(notebookContainer, {childList: true});\n",
              "}}\n",
              "\n",
              "// Listen for the clearing of the current output cell\n",
              "var outputEl = gd.closest('.output');\n",
              "if (outputEl) {{\n",
              "    x.observe(outputEl, {childList: true});\n",
              "}}\n",
              "\n",
              "                        })                };                            </script>        </div>\n",
              "</body>\n",
              "</html>"
            ]
          },
          "metadata": {}
        }
      ],
      "execution_count": 10
    },
    {
      "cell_type": "markdown",
      "source": [
        "# Intent Prediction Model\n",
        "\n",
        "* Split the dataset into training and testing sets.\n",
        "* Implement a machine learning or deep learning model suitable for intent prediction, such as a text classification model.\n",
        "* Vectorize the text data (e.g., using TF-IDF or word embeddings) and train the model using the patterns as input and the corresponding intents as target variables.\n",
        "* Evaluate the model's performance on the testing set using appropriate metrics like accuracy, precision, recall, and F1-score.\n",
        "* Visualize the model's performance using a Plotly bar plot, where the x-axis represents the evaluation metrics, and the y-axis represents the corresponding scores.\n",
        "* Interpret the plot to analyze the effectiveness of the intent prediction model."
      ],
      "metadata": {
        "id": "K4-18y23q-hQ"
      }
    },
    {
      "cell_type": "code",
      "source": [
        "from sklearn.model_selection import train_test_split\n",
        "from sklearn.feature_extraction.text import TfidfVectorizer\n",
        "from sklearn.svm import SVC\n",
        "from sklearn.metrics import classification_report\n",
        "import plotly.graph_objects as go"
      ],
      "metadata": {
        "execution": {
          "iopub.status.busy": "2024-11-06T08:50:53.852759Z",
          "iopub.execute_input": "2024-11-06T08:50:53.853721Z",
          "iopub.status.idle": "2024-11-06T08:50:54.658142Z",
          "shell.execute_reply.started": "2024-11-06T08:50:53.853674Z",
          "shell.execute_reply": "2024-11-06T08:50:54.657152Z"
        },
        "trusted": true,
        "id": "1Nv1ldVnq-hQ"
      },
      "outputs": [],
      "execution_count": 11
    },
    {
      "cell_type": "code",
      "source": [
        "# Split the dataset into training and testing sets\n",
        "X = df['patterns']\n",
        "y = df['tag']\n",
        "X_train, X_test, y_train, y_test = train_test_split(X, y, test_size=0.2, random_state=42)\n",
        "\n",
        "# Vectorize the text data using TF-IDF\n",
        "vectorizer = TfidfVectorizer()\n",
        "X_train_vec = vectorizer.fit_transform(X_train)\n",
        "X_test_vec = vectorizer.transform(X_test)\n",
        "\n",
        "# Train a Support Vector Machine (SVM) classifier\n",
        "model = SVC()\n",
        "model.fit(X_train_vec, y_train)\n",
        "\n",
        "# Predict intents for the testing set\n",
        "y_pred = model.predict(X_test_vec)\n",
        "\n",
        "# Evaluate the model's performance\n",
        "report = classification_report(y_test, y_pred, output_dict=True, zero_division=0)\n",
        "\n",
        "# Convert float values in the report to dictionaries\n",
        "report = {label: {metric: report[label][metric] for metric in report[label]} for label in report if isinstance(report[label], dict)}\n",
        "\n",
        "# Extract evaluation metrics\n",
        "labels = list(report.keys())\n",
        "evaluation_metrics = ['precision', 'recall', 'f1-score']\n",
        "metric_scores = {metric: [report[label][metric] for label in labels if label in report] for metric in evaluation_metrics}\n",
        "\n",
        "# Visualize the model's performance using a Plotly bar plot\n",
        "fig = go.Figure()\n",
        "for metric in evaluation_metrics:\n",
        "    fig.add_trace(go.Bar(name=metric, x=labels, y=metric_scores[metric]))\n",
        "\n",
        "fig.update_layout(title='Intent Prediction Model Performance',\n",
        "                  xaxis_title='Intent',\n",
        "                  yaxis_title='Score',\n",
        "                  barmode='group')\n",
        "\n",
        "fig.show()\n"
      ],
      "metadata": {
        "execution": {
          "iopub.status.busy": "2024-11-06T08:50:54.65993Z",
          "iopub.execute_input": "2024-11-06T08:50:54.66028Z",
          "iopub.status.idle": "2024-11-06T08:50:54.741799Z",
          "shell.execute_reply.started": "2024-11-06T08:50:54.660249Z",
          "shell.execute_reply": "2024-11-06T08:50:54.740681Z"
        },
        "trusted": true,
        "id": "xhXMotv9q-hQ",
        "outputId": "a07ca786-516d-4510-d0f6-534c10285a4c",
        "colab": {
          "base_uri": "https://localhost:8080/",
          "height": 542
        }
      },
      "outputs": [
        {
          "output_type": "display_data",
          "data": {
            "text/html": [
              "<html>\n",
              "<head><meta charset=\"utf-8\" /></head>\n",
              "<body>\n",
              "    <div>            <script src=\"https://cdnjs.cloudflare.com/ajax/libs/mathjax/2.7.5/MathJax.js?config=TeX-AMS-MML_SVG\"></script><script type=\"text/javascript\">if (window.MathJax && window.MathJax.Hub && window.MathJax.Hub.Config) {window.MathJax.Hub.Config({SVG: {font: \"STIX-Web\"}});}</script>                <script type=\"text/javascript\">window.PlotlyConfig = {MathJaxConfig: 'local'};</script>\n",
              "        <script charset=\"utf-8\" src=\"https://cdn.plot.ly/plotly-2.35.2.min.js\"></script>                <div id=\"d6208a5b-0bdd-45bb-a974-6ab928829879\" class=\"plotly-graph-div\" style=\"height:525px; width:100%;\"></div>            <script type=\"text/javascript\">                                    window.PLOTLYENV=window.PLOTLYENV || {};                                    if (document.getElementById(\"d6208a5b-0bdd-45bb-a974-6ab928829879\")) {                    Plotly.newPlot(                        \"d6208a5b-0bdd-45bb-a974-6ab928829879\",                        [{\"name\":\"precision\",\"x\":[\"about\",\"anxious\",\"casual\",\"death\",\"default\",\"depressed\",\"done\",\"fact-19\",\"fact-22\",\"fact-29\",\"fact-3\",\"fact-5\",\"fact-6\",\"fact-9\",\"goodbye\",\"greeting\",\"happy\",\"help\",\"jokes\",\"learn-mental-health\",\"location\",\"meditation\",\"name\",\"neutral-response\",\"night\",\"no-approach\",\"not-talking\",\"pandora-useful\",\"repeat\",\"sad\",\"scared\",\"sleep\",\"something-else\",\"stupid\",\"suicide\",\"thanks\",\"understand\",\"user-agree\",\"worthless\",\"wrong\",\"macro avg\",\"weighted avg\"],\"y\":[0.0,0.0,0.1,1.0,0.0,0.0,0.0,0.0,0.0,0.0,0.0,0.0,0.0,0.0,1.0,0.0,0.0,0.0,0.0,0.0,0.0,0.0,0.0,0.0,0.0,0.0,0.0,0.0,0.0,0.0,0.0,0.0,1.0,0.0,0.0,0.0,0.0,0.0,0.0,0.0,0.0775,0.13191489361702127],\"type\":\"bar\"},{\"name\":\"recall\",\"x\":[\"about\",\"anxious\",\"casual\",\"death\",\"default\",\"depressed\",\"done\",\"fact-19\",\"fact-22\",\"fact-29\",\"fact-3\",\"fact-5\",\"fact-6\",\"fact-9\",\"goodbye\",\"greeting\",\"happy\",\"help\",\"jokes\",\"learn-mental-health\",\"location\",\"meditation\",\"name\",\"neutral-response\",\"night\",\"no-approach\",\"not-talking\",\"pandora-useful\",\"repeat\",\"sad\",\"scared\",\"sleep\",\"something-else\",\"stupid\",\"suicide\",\"thanks\",\"understand\",\"user-agree\",\"worthless\",\"wrong\",\"macro avg\",\"weighted avg\"],\"y\":[0.0,0.0,0.5,0.5,0.0,0.0,0.0,0.0,0.0,0.0,0.0,0.0,0.0,0.0,0.3333333333333333,0.0,0.0,0.0,0.0,0.0,0.0,0.0,0.0,0.0,0.0,0.0,0.0,0.0,0.0,0.0,0.0,0.0,1.0,0.0,0.0,0.0,0.0,0.0,0.0,0.0,0.058333333333333334,0.0851063829787234],\"type\":\"bar\"},{\"name\":\"f1-score\",\"x\":[\"about\",\"anxious\",\"casual\",\"death\",\"default\",\"depressed\",\"done\",\"fact-19\",\"fact-22\",\"fact-29\",\"fact-3\",\"fact-5\",\"fact-6\",\"fact-9\",\"goodbye\",\"greeting\",\"happy\",\"help\",\"jokes\",\"learn-mental-health\",\"location\",\"meditation\",\"name\",\"neutral-response\",\"night\",\"no-approach\",\"not-talking\",\"pandora-useful\",\"repeat\",\"sad\",\"scared\",\"sleep\",\"something-else\",\"stupid\",\"suicide\",\"thanks\",\"understand\",\"user-agree\",\"worthless\",\"wrong\",\"macro avg\",\"weighted avg\"],\"y\":[0.0,0.0,0.16666666666666666,0.6666666666666666,0.0,0.0,0.0,0.0,0.0,0.0,0.0,0.0,0.0,0.0,0.5,0.0,0.0,0.0,0.0,0.0,0.0,0.0,0.0,0.0,0.0,0.0,0.0,0.0,0.0,0.0,0.0,0.0,1.0,0.0,0.0,0.0,0.0,0.0,0.0,0.0,0.05833333333333333,0.08865248226950354],\"type\":\"bar\"}],                        {\"template\":{\"data\":{\"histogram2dcontour\":[{\"type\":\"histogram2dcontour\",\"colorbar\":{\"outlinewidth\":0,\"ticks\":\"\"},\"colorscale\":[[0.0,\"#0d0887\"],[0.1111111111111111,\"#46039f\"],[0.2222222222222222,\"#7201a8\"],[0.3333333333333333,\"#9c179e\"],[0.4444444444444444,\"#bd3786\"],[0.5555555555555556,\"#d8576b\"],[0.6666666666666666,\"#ed7953\"],[0.7777777777777778,\"#fb9f3a\"],[0.8888888888888888,\"#fdca26\"],[1.0,\"#f0f921\"]]}],\"choropleth\":[{\"type\":\"choropleth\",\"colorbar\":{\"outlinewidth\":0,\"ticks\":\"\"}}],\"histogram2d\":[{\"type\":\"histogram2d\",\"colorbar\":{\"outlinewidth\":0,\"ticks\":\"\"},\"colorscale\":[[0.0,\"#0d0887\"],[0.1111111111111111,\"#46039f\"],[0.2222222222222222,\"#7201a8\"],[0.3333333333333333,\"#9c179e\"],[0.4444444444444444,\"#bd3786\"],[0.5555555555555556,\"#d8576b\"],[0.6666666666666666,\"#ed7953\"],[0.7777777777777778,\"#fb9f3a\"],[0.8888888888888888,\"#fdca26\"],[1.0,\"#f0f921\"]]}],\"heatmap\":[{\"type\":\"heatmap\",\"colorbar\":{\"outlinewidth\":0,\"ticks\":\"\"},\"colorscale\":[[0.0,\"#0d0887\"],[0.1111111111111111,\"#46039f\"],[0.2222222222222222,\"#7201a8\"],[0.3333333333333333,\"#9c179e\"],[0.4444444444444444,\"#bd3786\"],[0.5555555555555556,\"#d8576b\"],[0.6666666666666666,\"#ed7953\"],[0.7777777777777778,\"#fb9f3a\"],[0.8888888888888888,\"#fdca26\"],[1.0,\"#f0f921\"]]}],\"heatmapgl\":[{\"type\":\"heatmapgl\",\"colorbar\":{\"outlinewidth\":0,\"ticks\":\"\"},\"colorscale\":[[0.0,\"#0d0887\"],[0.1111111111111111,\"#46039f\"],[0.2222222222222222,\"#7201a8\"],[0.3333333333333333,\"#9c179e\"],[0.4444444444444444,\"#bd3786\"],[0.5555555555555556,\"#d8576b\"],[0.6666666666666666,\"#ed7953\"],[0.7777777777777778,\"#fb9f3a\"],[0.8888888888888888,\"#fdca26\"],[1.0,\"#f0f921\"]]}],\"contourcarpet\":[{\"type\":\"contourcarpet\",\"colorbar\":{\"outlinewidth\":0,\"ticks\":\"\"}}],\"contour\":[{\"type\":\"contour\",\"colorbar\":{\"outlinewidth\":0,\"ticks\":\"\"},\"colorscale\":[[0.0,\"#0d0887\"],[0.1111111111111111,\"#46039f\"],[0.2222222222222222,\"#7201a8\"],[0.3333333333333333,\"#9c179e\"],[0.4444444444444444,\"#bd3786\"],[0.5555555555555556,\"#d8576b\"],[0.6666666666666666,\"#ed7953\"],[0.7777777777777778,\"#fb9f3a\"],[0.8888888888888888,\"#fdca26\"],[1.0,\"#f0f921\"]]}],\"surface\":[{\"type\":\"surface\",\"colorbar\":{\"outlinewidth\":0,\"ticks\":\"\"},\"colorscale\":[[0.0,\"#0d0887\"],[0.1111111111111111,\"#46039f\"],[0.2222222222222222,\"#7201a8\"],[0.3333333333333333,\"#9c179e\"],[0.4444444444444444,\"#bd3786\"],[0.5555555555555556,\"#d8576b\"],[0.6666666666666666,\"#ed7953\"],[0.7777777777777778,\"#fb9f3a\"],[0.8888888888888888,\"#fdca26\"],[1.0,\"#f0f921\"]]}],\"mesh3d\":[{\"type\":\"mesh3d\",\"colorbar\":{\"outlinewidth\":0,\"ticks\":\"\"}}],\"scatter\":[{\"fillpattern\":{\"fillmode\":\"overlay\",\"size\":10,\"solidity\":0.2},\"type\":\"scatter\"}],\"parcoords\":[{\"type\":\"parcoords\",\"line\":{\"colorbar\":{\"outlinewidth\":0,\"ticks\":\"\"}}}],\"scatterpolargl\":[{\"type\":\"scatterpolargl\",\"marker\":{\"colorbar\":{\"outlinewidth\":0,\"ticks\":\"\"}}}],\"bar\":[{\"error_x\":{\"color\":\"#2a3f5f\"},\"error_y\":{\"color\":\"#2a3f5f\"},\"marker\":{\"line\":{\"color\":\"#E5ECF6\",\"width\":0.5},\"pattern\":{\"fillmode\":\"overlay\",\"size\":10,\"solidity\":0.2}},\"type\":\"bar\"}],\"scattergeo\":[{\"type\":\"scattergeo\",\"marker\":{\"colorbar\":{\"outlinewidth\":0,\"ticks\":\"\"}}}],\"scatterpolar\":[{\"type\":\"scatterpolar\",\"marker\":{\"colorbar\":{\"outlinewidth\":0,\"ticks\":\"\"}}}],\"histogram\":[{\"marker\":{\"pattern\":{\"fillmode\":\"overlay\",\"size\":10,\"solidity\":0.2}},\"type\":\"histogram\"}],\"scattergl\":[{\"type\":\"scattergl\",\"marker\":{\"colorbar\":{\"outlinewidth\":0,\"ticks\":\"\"}}}],\"scatter3d\":[{\"type\":\"scatter3d\",\"line\":{\"colorbar\":{\"outlinewidth\":0,\"ticks\":\"\"}},\"marker\":{\"colorbar\":{\"outlinewidth\":0,\"ticks\":\"\"}}}],\"scattermapbox\":[{\"type\":\"scattermapbox\",\"marker\":{\"colorbar\":{\"outlinewidth\":0,\"ticks\":\"\"}}}],\"scatterternary\":[{\"type\":\"scatterternary\",\"marker\":{\"colorbar\":{\"outlinewidth\":0,\"ticks\":\"\"}}}],\"scattercarpet\":[{\"type\":\"scattercarpet\",\"marker\":{\"colorbar\":{\"outlinewidth\":0,\"ticks\":\"\"}}}],\"carpet\":[{\"aaxis\":{\"endlinecolor\":\"#2a3f5f\",\"gridcolor\":\"white\",\"linecolor\":\"white\",\"minorgridcolor\":\"white\",\"startlinecolor\":\"#2a3f5f\"},\"baxis\":{\"endlinecolor\":\"#2a3f5f\",\"gridcolor\":\"white\",\"linecolor\":\"white\",\"minorgridcolor\":\"white\",\"startlinecolor\":\"#2a3f5f\"},\"type\":\"carpet\"}],\"table\":[{\"cells\":{\"fill\":{\"color\":\"#EBF0F8\"},\"line\":{\"color\":\"white\"}},\"header\":{\"fill\":{\"color\":\"#C8D4E3\"},\"line\":{\"color\":\"white\"}},\"type\":\"table\"}],\"barpolar\":[{\"marker\":{\"line\":{\"color\":\"#E5ECF6\",\"width\":0.5},\"pattern\":{\"fillmode\":\"overlay\",\"size\":10,\"solidity\":0.2}},\"type\":\"barpolar\"}],\"pie\":[{\"automargin\":true,\"type\":\"pie\"}]},\"layout\":{\"autotypenumbers\":\"strict\",\"colorway\":[\"#636efa\",\"#EF553B\",\"#00cc96\",\"#ab63fa\",\"#FFA15A\",\"#19d3f3\",\"#FF6692\",\"#B6E880\",\"#FF97FF\",\"#FECB52\"],\"font\":{\"color\":\"#2a3f5f\"},\"hovermode\":\"closest\",\"hoverlabel\":{\"align\":\"left\"},\"paper_bgcolor\":\"white\",\"plot_bgcolor\":\"#E5ECF6\",\"polar\":{\"bgcolor\":\"#E5ECF6\",\"angularaxis\":{\"gridcolor\":\"white\",\"linecolor\":\"white\",\"ticks\":\"\"},\"radialaxis\":{\"gridcolor\":\"white\",\"linecolor\":\"white\",\"ticks\":\"\"}},\"ternary\":{\"bgcolor\":\"#E5ECF6\",\"aaxis\":{\"gridcolor\":\"white\",\"linecolor\":\"white\",\"ticks\":\"\"},\"baxis\":{\"gridcolor\":\"white\",\"linecolor\":\"white\",\"ticks\":\"\"},\"caxis\":{\"gridcolor\":\"white\",\"linecolor\":\"white\",\"ticks\":\"\"}},\"coloraxis\":{\"colorbar\":{\"outlinewidth\":0,\"ticks\":\"\"}},\"colorscale\":{\"sequential\":[[0.0,\"#0d0887\"],[0.1111111111111111,\"#46039f\"],[0.2222222222222222,\"#7201a8\"],[0.3333333333333333,\"#9c179e\"],[0.4444444444444444,\"#bd3786\"],[0.5555555555555556,\"#d8576b\"],[0.6666666666666666,\"#ed7953\"],[0.7777777777777778,\"#fb9f3a\"],[0.8888888888888888,\"#fdca26\"],[1.0,\"#f0f921\"]],\"sequentialminus\":[[0.0,\"#0d0887\"],[0.1111111111111111,\"#46039f\"],[0.2222222222222222,\"#7201a8\"],[0.3333333333333333,\"#9c179e\"],[0.4444444444444444,\"#bd3786\"],[0.5555555555555556,\"#d8576b\"],[0.6666666666666666,\"#ed7953\"],[0.7777777777777778,\"#fb9f3a\"],[0.8888888888888888,\"#fdca26\"],[1.0,\"#f0f921\"]],\"diverging\":[[0,\"#8e0152\"],[0.1,\"#c51b7d\"],[0.2,\"#de77ae\"],[0.3,\"#f1b6da\"],[0.4,\"#fde0ef\"],[0.5,\"#f7f7f7\"],[0.6,\"#e6f5d0\"],[0.7,\"#b8e186\"],[0.8,\"#7fbc41\"],[0.9,\"#4d9221\"],[1,\"#276419\"]]},\"xaxis\":{\"gridcolor\":\"white\",\"linecolor\":\"white\",\"ticks\":\"\",\"title\":{\"standoff\":15},\"zerolinecolor\":\"white\",\"automargin\":true,\"zerolinewidth\":2},\"yaxis\":{\"gridcolor\":\"white\",\"linecolor\":\"white\",\"ticks\":\"\",\"title\":{\"standoff\":15},\"zerolinecolor\":\"white\",\"automargin\":true,\"zerolinewidth\":2},\"scene\":{\"xaxis\":{\"backgroundcolor\":\"#E5ECF6\",\"gridcolor\":\"white\",\"linecolor\":\"white\",\"showbackground\":true,\"ticks\":\"\",\"zerolinecolor\":\"white\",\"gridwidth\":2},\"yaxis\":{\"backgroundcolor\":\"#E5ECF6\",\"gridcolor\":\"white\",\"linecolor\":\"white\",\"showbackground\":true,\"ticks\":\"\",\"zerolinecolor\":\"white\",\"gridwidth\":2},\"zaxis\":{\"backgroundcolor\":\"#E5ECF6\",\"gridcolor\":\"white\",\"linecolor\":\"white\",\"showbackground\":true,\"ticks\":\"\",\"zerolinecolor\":\"white\",\"gridwidth\":2}},\"shapedefaults\":{\"line\":{\"color\":\"#2a3f5f\"}},\"annotationdefaults\":{\"arrowcolor\":\"#2a3f5f\",\"arrowhead\":0,\"arrowwidth\":1},\"geo\":{\"bgcolor\":\"white\",\"landcolor\":\"#E5ECF6\",\"subunitcolor\":\"white\",\"showland\":true,\"showlakes\":true,\"lakecolor\":\"white\"},\"title\":{\"x\":0.05},\"mapbox\":{\"style\":\"light\"}}},\"title\":{\"text\":\"Intent Prediction Model Performance\"},\"xaxis\":{\"title\":{\"text\":\"Intent\"}},\"yaxis\":{\"title\":{\"text\":\"Score\"}},\"barmode\":\"group\"},                        {\"responsive\": true}                    ).then(function(){\n",
              "                            \n",
              "var gd = document.getElementById('d6208a5b-0bdd-45bb-a974-6ab928829879');\n",
              "var x = new MutationObserver(function (mutations, observer) {{\n",
              "        var display = window.getComputedStyle(gd).display;\n",
              "        if (!display || display === 'none') {{\n",
              "            console.log([gd, 'removed!']);\n",
              "            Plotly.purge(gd);\n",
              "            observer.disconnect();\n",
              "        }}\n",
              "}});\n",
              "\n",
              "// Listen for the removal of the full notebook cells\n",
              "var notebookContainer = gd.closest('#notebook-container');\n",
              "if (notebookContainer) {{\n",
              "    x.observe(notebookContainer, {childList: true});\n",
              "}}\n",
              "\n",
              "// Listen for the clearing of the current output cell\n",
              "var outputEl = gd.closest('.output');\n",
              "if (outputEl) {{\n",
              "    x.observe(outputEl, {childList: true});\n",
              "}}\n",
              "\n",
              "                        })                };                            </script>        </div>\n",
              "</body>\n",
              "</html>"
            ]
          },
          "metadata": {}
        }
      ],
      "execution_count": 12
    },
    {
      "cell_type": "markdown",
      "source": [
        "# Prediction Model Deployment\n",
        "\n",
        "* Once satisfied with the model's performance, deploy the intent prediction model in a chatbot framework.\n",
        "* Utilize the trained model to predict intents based on user input in real-time.\n",
        "* Implement an appropriate response generation mechanism to provide relevant and empathetic responses based on the predicted intents."
      ],
      "metadata": {
        "id": "9CMw4XWEq-hR"
      }
    },
    {
      "cell_type": "code",
      "source": [
        "# Prediction Model Deployment\n",
        "\n",
        "# A trained SVM model named 'model' and a vectorizer named 'vectorizer'\n",
        "\n",
        "# Function to predict intents based on user input\n",
        "def predict_intent(user_input):\n",
        "    # Vectorize the user input\n",
        "    user_input_vec = vectorizer.transform([user_input])\n",
        "\n",
        "    # Predict the intent\n",
        "    intent = model.predict(user_input_vec)[0]\n",
        "\n",
        "    return intent\n",
        "\n",
        "# Function to generate responses based on predicted intents\n",
        "def generate_response(intent):\n",
        "    # Implement your logic here to generate appropriate responses based on the predicted intents\n",
        "    if intent == 'greeting':\n",
        "        response = \"Hello! How can I assist you today?\"\n",
        "    elif intent == 'farewell':\n",
        "        response = \"Goodbye! Take care.\"\n",
        "    elif intent == 'question':\n",
        "        response = \"I'm sorry, I don't have the information you're looking for.\"\n",
        "    else:\n",
        "        response = \"I'm here to help. Please let me know how I can assist you.\"\n",
        "\n",
        "    return response\n",
        "\n",
        "# Example usage\n",
        "while True:\n",
        "    # Get user input\n",
        "    user_input = input(\"User: \")\n",
        "\n",
        "    # Predict intent\n",
        "    intent = predict_intent(user_input)\n",
        "\n",
        "    # Generate response\n",
        "    response = generate_response(intent)\n",
        "\n",
        "    print(\"Chatbot:\", response)\n"
      ],
      "metadata": {
        "execution": {
          "iopub.status.busy": "2024-11-06T08:50:55.767279Z",
          "iopub.execute_input": "2024-11-06T08:50:55.767694Z"
        },
        "trusted": true,
        "id": "fLgX008_q-hR",
        "outputId": "84a402a5-3557-46f1-e193-9c470fec0c8b",
        "colab": {
          "base_uri": "https://localhost:8080/"
        }
      },
      "outputs": [
        {
          "output_type": "stream",
          "name": "stdout",
          "text": [
            "User: hello\n",
            "Chatbot: Hello! How can I assist you today?\n",
            "User: facing anxiety\n",
            "Chatbot: Hello! How can I assist you today?\n",
            "User: question\n",
            "Chatbot: I'm here to help. Please let me know how I can assist you.\n"
          ]
        }
      ],
      "execution_count": null
    },
    {
      "cell_type": "markdown",
      "source": [
        "# Conclusion\n",
        "\n",
        "In conclusion, the availability of a well-structured dataset encompassing various conversations related to mental health provides a valuable resource for training chatbot models to offer emotional support to individuals dealing with anxiety and depression. By utilizing intents, patterns, and responses, the models can learn to understand user messages and generate empathetic and relevant replies.\n",
        "\n",
        "The use of such models in chatbot frameworks holds great potential for providing accessible and compassionate support to those in need of mental health assistance. By simulating the behavior of a therapist, these chatbots can offer guidance, answer frequently asked questions, and provide general advice to individuals experiencing anxiety and depression.\n",
        "\n",
        "By leveraging the insights and knowledge gained from this dataset, researchers and developers can contribute to the development of chatbots that serve as virtual companions, offering emotional solace and alleviating some of the burdens faced by individuals seeking mental health support.\n",
        "\n",
        "Overall, the dataset and the subsequent training of chatbot models enable the creation of innovative tools that bridge the gap in mental health care, providing individuals with a readily available resource for emotional support and guidance."
      ],
      "metadata": {
        "id": "QaiwmZynq-hR"
      }
    },
    {
      "cell_type": "markdown",
      "source": [
        "![images.jpeg](data:image/jpeg;base64,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)"
      ],
      "metadata": {
        "id": "M4Jy3qZnq-hR"
      }
    },
    {
      "cell_type": "markdown",
      "source": [
        "<div style=\"color:white;\n",
        "           display:fill;\n",
        "           border-radius:5px;\n",
        "           background-color:#5642C5;\n",
        "           font-size:110%;\n",
        "           font-family:Verdana;\n",
        "           letter-spacing:0.5px\">\n",
        "\n",
        "<p style=\"padding: 10px;\n",
        "              color:white;\">\n",
        "Your upvote is a great way to show your support and help others discover this valuable resource.\n",
        "Please share your comments and suggestions"
      ],
      "metadata": {
        "id": "0UfP7R_Zq-hR"
      }
    },
    {
      "cell_type": "markdown",
      "source": [
        "<div class=\"alert alert-block alert-info\"> 📌 Note: If you fork my notebook, please don't forget to upvote it. </div>\n"
      ],
      "metadata": {
        "id": "k4q0_fl1q-hS"
      }
    }
  ]
}